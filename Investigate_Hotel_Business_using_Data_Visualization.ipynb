{
 "cells": [
  {
   "cell_type": "markdown",
   "id": "vUwtibTtCVTG",
   "metadata": {
    "id": "vUwtibTtCVTG"
   },
   "source": [
    "# **Data Cleaning**"
   ]
  },
  {
   "cell_type": "markdown",
   "id": "f9397a9a",
   "metadata": {
    "id": "f9397a9a"
   },
   "source": [
    "## Data Description"
   ]
  },
  {
   "cell_type": "markdown",
   "id": "29ea387f",
   "metadata": {
    "id": "29ea387f"
   },
   "source": [
    "- hotel : Hotel type (Resort Hotel dan City Hotel)\n",
    "- is_canceled : Canceled = 1, Not canceled = 0\n",
    "- lead_time : Number of days between booking time with arrival time\n",
    "- arrival_date_year : arrival year\n",
    "- arrival_date_month : arrival month\n",
    "- arrival_date_week_number : arrival week\n",
    "- arrival_date_day_of_month : arrival date\n",
    "- stays_in_weekend_nights : number of nights the guest booked the hotel during Saturday - Sunday\n",
    "- stays_in_weekdays_nights : number of nights the guest booked the hotel during Monday - Friday\n",
    "- adults : number of adults\n",
    "- children : number of children\n",
    "- babies : number of babies\n",
    "- meal : meal type\n",
    "- city : city of origin the guest\n",
    "- market_segment : market segment\n",
    "- distribution_channel : channel of distribution\n",
    "- is_repeated_guest : Yes = 1 0, No = 0\n",
    "- previous_cancellations : number of cancelled bookings\n",
    "- previous_bookings_not_canceled : number of no cancelled bookings\n",
    "- booking_changes : number of changes made by the guest before final booking\n",
    "- deposit_type : type of deposit made by the guest\n",
    "- agent : code of agen \n",
    "- company : code of company\n",
    "- days_in_waiting_list : number of days the booking was in the waiting list before it was confirmed\n",
    "- customer_type : type of booking\n",
    "- adr : average daily rate for the booking\n",
    "- required_car_parking_spaces : number of car parking spaces that required by the guest\n",
    "- total_of_special_requests : number of special requests made by the guest\n",
    "- reservation_status : status of reservation made by the guest"
   ]
  },
  {
   "cell_type": "markdown",
   "id": "b024a0f2",
   "metadata": {},
   "source": [
    "**Pada case ini saya menambahkan beberapa asumsi**\n",
    "\n",
    "- Usia babies adalah < 6 tahun, dan usia children adalah 6-18 tahun atau usia anak sekolah\n",
    "- Tamu kategori babies harus ada pendamping minimal 1 adults dan pemesanan atas nama si pendamping \n",
    "- Jika tamu babies dan children menginap bersama harus ada pendamping minimal 1 adults"
   ]
  },
  {
   "cell_type": "markdown",
   "id": "800e86dd",
   "metadata": {},
   "source": [
    "## Import Library"
   ]
  },
  {
   "cell_type": "code",
   "execution_count": 1,
   "id": "ea7574ee",
   "metadata": {},
   "outputs": [],
   "source": [
    "import pandas as pd\n",
    "import numpy as np\n",
    "import matplotlib.pyplot as plt \n",
    "import seaborn as sns\n",
    "\n",
    "\n",
    "# Ignore warning\n",
    "import warnings\n",
    "warnings.filterwarnings(\"ignore\")"
   ]
  },
  {
   "cell_type": "markdown",
   "id": "c6d1bc3c",
   "metadata": {
    "id": "c6d1bc3c"
   },
   "source": [
    "## Load Data"
   ]
  },
  {
   "cell_type": "code",
   "execution_count": 2,
   "id": "fa5cb6e8",
   "metadata": {
    "id": "fa5cb6e8"
   },
   "outputs": [],
   "source": [
    "df = pd.read_csv('hotel_bookings_data.csv')"
   ]
  },
  {
   "cell_type": "code",
   "execution_count": 3,
   "id": "d94b64d1",
   "metadata": {
    "colab": {
     "base_uri": "https://localhost:8080/",
     "height": 357
    },
    "id": "d94b64d1",
    "outputId": "67997666-b7c5-4d67-b7fb-0ef8040611f9",
    "scrolled": true
   },
   "outputs": [
    {
     "data": {
      "text/html": [
       "<div>\n",
       "<style scoped>\n",
       "    .dataframe tbody tr th:only-of-type {\n",
       "        vertical-align: middle;\n",
       "    }\n",
       "\n",
       "    .dataframe tbody tr th {\n",
       "        vertical-align: top;\n",
       "    }\n",
       "\n",
       "    .dataframe thead th {\n",
       "        text-align: right;\n",
       "    }\n",
       "</style>\n",
       "<table border=\"1\" class=\"dataframe\">\n",
       "  <thead>\n",
       "    <tr style=\"text-align: right;\">\n",
       "      <th></th>\n",
       "      <th>hotel</th>\n",
       "      <th>is_canceled</th>\n",
       "      <th>lead_time</th>\n",
       "      <th>arrival_date_year</th>\n",
       "      <th>arrival_date_month</th>\n",
       "      <th>arrival_date_week_number</th>\n",
       "      <th>arrival_date_day_of_month</th>\n",
       "      <th>stays_in_weekend_nights</th>\n",
       "      <th>stays_in_weekdays_nights</th>\n",
       "      <th>adults</th>\n",
       "      <th>children</th>\n",
       "      <th>babies</th>\n",
       "      <th>meal</th>\n",
       "      <th>city</th>\n",
       "      <th>market_segment</th>\n",
       "      <th>distribution_channel</th>\n",
       "      <th>is_repeated_guest</th>\n",
       "      <th>previous_cancellations</th>\n",
       "      <th>previous_bookings_not_canceled</th>\n",
       "      <th>booking_changes</th>\n",
       "      <th>deposit_type</th>\n",
       "      <th>agent</th>\n",
       "      <th>company</th>\n",
       "      <th>days_in_waiting_list</th>\n",
       "      <th>customer_type</th>\n",
       "      <th>adr</th>\n",
       "      <th>required_car_parking_spaces</th>\n",
       "      <th>total_of_special_requests</th>\n",
       "      <th>reservation_status</th>\n",
       "    </tr>\n",
       "  </thead>\n",
       "  <tbody>\n",
       "    <tr>\n",
       "      <th>0</th>\n",
       "      <td>Resort Hotel</td>\n",
       "      <td>0</td>\n",
       "      <td>342</td>\n",
       "      <td>2017</td>\n",
       "      <td>September</td>\n",
       "      <td>27</td>\n",
       "      <td>1</td>\n",
       "      <td>0</td>\n",
       "      <td>0</td>\n",
       "      <td>2</td>\n",
       "      <td>0.0</td>\n",
       "      <td>0</td>\n",
       "      <td>Breakfast</td>\n",
       "      <td>Kota Denpasar</td>\n",
       "      <td>Direct</td>\n",
       "      <td>Direct</td>\n",
       "      <td>0</td>\n",
       "      <td>0</td>\n",
       "      <td>0</td>\n",
       "      <td>3</td>\n",
       "      <td>No Deposit</td>\n",
       "      <td>NaN</td>\n",
       "      <td>NaN</td>\n",
       "      <td>0</td>\n",
       "      <td>Personal</td>\n",
       "      <td>0.0</td>\n",
       "      <td>0</td>\n",
       "      <td>0</td>\n",
       "      <td>Check-Out</td>\n",
       "    </tr>\n",
       "    <tr>\n",
       "      <th>1</th>\n",
       "      <td>Resort Hotel</td>\n",
       "      <td>0</td>\n",
       "      <td>737</td>\n",
       "      <td>2017</td>\n",
       "      <td>September</td>\n",
       "      <td>27</td>\n",
       "      <td>1</td>\n",
       "      <td>0</td>\n",
       "      <td>0</td>\n",
       "      <td>2</td>\n",
       "      <td>0.0</td>\n",
       "      <td>0</td>\n",
       "      <td>Breakfast</td>\n",
       "      <td>Kota Denpasar</td>\n",
       "      <td>Direct</td>\n",
       "      <td>Direct</td>\n",
       "      <td>0</td>\n",
       "      <td>0</td>\n",
       "      <td>0</td>\n",
       "      <td>4</td>\n",
       "      <td>No Deposit</td>\n",
       "      <td>NaN</td>\n",
       "      <td>NaN</td>\n",
       "      <td>0</td>\n",
       "      <td>Personal</td>\n",
       "      <td>0.0</td>\n",
       "      <td>0</td>\n",
       "      <td>0</td>\n",
       "      <td>Check-Out</td>\n",
       "    </tr>\n",
       "    <tr>\n",
       "      <th>2</th>\n",
       "      <td>Resort Hotel</td>\n",
       "      <td>0</td>\n",
       "      <td>7</td>\n",
       "      <td>2017</td>\n",
       "      <td>September</td>\n",
       "      <td>27</td>\n",
       "      <td>1</td>\n",
       "      <td>0</td>\n",
       "      <td>1</td>\n",
       "      <td>1</td>\n",
       "      <td>0.0</td>\n",
       "      <td>0</td>\n",
       "      <td>Breakfast</td>\n",
       "      <td>Kabupaten Bangka</td>\n",
       "      <td>Direct</td>\n",
       "      <td>Direct</td>\n",
       "      <td>0</td>\n",
       "      <td>0</td>\n",
       "      <td>0</td>\n",
       "      <td>0</td>\n",
       "      <td>No Deposit</td>\n",
       "      <td>NaN</td>\n",
       "      <td>NaN</td>\n",
       "      <td>0</td>\n",
       "      <td>Personal</td>\n",
       "      <td>75.0</td>\n",
       "      <td>0</td>\n",
       "      <td>0</td>\n",
       "      <td>Check-Out</td>\n",
       "    </tr>\n",
       "    <tr>\n",
       "      <th>3</th>\n",
       "      <td>Resort Hotel</td>\n",
       "      <td>0</td>\n",
       "      <td>13</td>\n",
       "      <td>2017</td>\n",
       "      <td>September</td>\n",
       "      <td>27</td>\n",
       "      <td>1</td>\n",
       "      <td>0</td>\n",
       "      <td>1</td>\n",
       "      <td>1</td>\n",
       "      <td>0.0</td>\n",
       "      <td>0</td>\n",
       "      <td>Breakfast</td>\n",
       "      <td>Kabupaten Bangka</td>\n",
       "      <td>Corporate</td>\n",
       "      <td>Corporate</td>\n",
       "      <td>0</td>\n",
       "      <td>0</td>\n",
       "      <td>0</td>\n",
       "      <td>0</td>\n",
       "      <td>No Deposit</td>\n",
       "      <td>304.0</td>\n",
       "      <td>NaN</td>\n",
       "      <td>0</td>\n",
       "      <td>Personal</td>\n",
       "      <td>75.0</td>\n",
       "      <td>0</td>\n",
       "      <td>0</td>\n",
       "      <td>Check-Out</td>\n",
       "    </tr>\n",
       "    <tr>\n",
       "      <th>4</th>\n",
       "      <td>Resort Hotel</td>\n",
       "      <td>0</td>\n",
       "      <td>14</td>\n",
       "      <td>2017</td>\n",
       "      <td>September</td>\n",
       "      <td>27</td>\n",
       "      <td>1</td>\n",
       "      <td>0</td>\n",
       "      <td>2</td>\n",
       "      <td>2</td>\n",
       "      <td>0.0</td>\n",
       "      <td>0</td>\n",
       "      <td>Breakfast</td>\n",
       "      <td>Kabupaten Bangka</td>\n",
       "      <td>Online TA</td>\n",
       "      <td>TA/TO</td>\n",
       "      <td>0</td>\n",
       "      <td>0</td>\n",
       "      <td>0</td>\n",
       "      <td>0</td>\n",
       "      <td>No Deposit</td>\n",
       "      <td>240.0</td>\n",
       "      <td>NaN</td>\n",
       "      <td>0</td>\n",
       "      <td>Personal</td>\n",
       "      <td>98.0</td>\n",
       "      <td>0</td>\n",
       "      <td>1</td>\n",
       "      <td>Check-Out</td>\n",
       "    </tr>\n",
       "  </tbody>\n",
       "</table>\n",
       "</div>"
      ],
      "text/plain": [
       "          hotel  is_canceled  lead_time  arrival_date_year arrival_date_month  \\\n",
       "0  Resort Hotel            0        342               2017          September   \n",
       "1  Resort Hotel            0        737               2017          September   \n",
       "2  Resort Hotel            0          7               2017          September   \n",
       "3  Resort Hotel            0         13               2017          September   \n",
       "4  Resort Hotel            0         14               2017          September   \n",
       "\n",
       "   arrival_date_week_number  arrival_date_day_of_month  \\\n",
       "0                        27                          1   \n",
       "1                        27                          1   \n",
       "2                        27                          1   \n",
       "3                        27                          1   \n",
       "4                        27                          1   \n",
       "\n",
       "   stays_in_weekend_nights  stays_in_weekdays_nights  adults  children  \\\n",
       "0                        0                         0       2       0.0   \n",
       "1                        0                         0       2       0.0   \n",
       "2                        0                         1       1       0.0   \n",
       "3                        0                         1       1       0.0   \n",
       "4                        0                         2       2       0.0   \n",
       "\n",
       "   babies       meal              city market_segment distribution_channel  \\\n",
       "0       0  Breakfast     Kota Denpasar         Direct               Direct   \n",
       "1       0  Breakfast     Kota Denpasar         Direct               Direct   \n",
       "2       0  Breakfast  Kabupaten Bangka         Direct               Direct   \n",
       "3       0  Breakfast  Kabupaten Bangka      Corporate            Corporate   \n",
       "4       0  Breakfast  Kabupaten Bangka      Online TA                TA/TO   \n",
       "\n",
       "   is_repeated_guest  previous_cancellations  previous_bookings_not_canceled  \\\n",
       "0                  0                       0                               0   \n",
       "1                  0                       0                               0   \n",
       "2                  0                       0                               0   \n",
       "3                  0                       0                               0   \n",
       "4                  0                       0                               0   \n",
       "\n",
       "   booking_changes deposit_type  agent  company  days_in_waiting_list  \\\n",
       "0                3   No Deposit    NaN      NaN                     0   \n",
       "1                4   No Deposit    NaN      NaN                     0   \n",
       "2                0   No Deposit    NaN      NaN                     0   \n",
       "3                0   No Deposit  304.0      NaN                     0   \n",
       "4                0   No Deposit  240.0      NaN                     0   \n",
       "\n",
       "  customer_type   adr  required_car_parking_spaces  total_of_special_requests  \\\n",
       "0      Personal   0.0                            0                          0   \n",
       "1      Personal   0.0                            0                          0   \n",
       "2      Personal  75.0                            0                          0   \n",
       "3      Personal  75.0                            0                          0   \n",
       "4      Personal  98.0                            0                          1   \n",
       "\n",
       "  reservation_status  \n",
       "0          Check-Out  \n",
       "1          Check-Out  \n",
       "2          Check-Out  \n",
       "3          Check-Out  \n",
       "4          Check-Out  "
      ]
     },
     "execution_count": 3,
     "metadata": {},
     "output_type": "execute_result"
    }
   ],
   "source": [
    "pd.set_option('display.max_columns', None)\n",
    "df.head()"
   ]
  },
  {
   "cell_type": "code",
   "execution_count": 4,
   "id": "2849426a",
   "metadata": {
    "colab": {
     "base_uri": "https://localhost:8080/"
    },
    "id": "2849426a",
    "outputId": "5452c708-8677-4e1c-bcf6-ed02b656388c"
   },
   "outputs": [
    {
     "name": "stdout",
     "output_type": "stream",
     "text": [
      "<class 'pandas.core.frame.DataFrame'>\n",
      "RangeIndex: 119390 entries, 0 to 119389\n",
      "Data columns (total 29 columns):\n",
      " #   Column                          Non-Null Count   Dtype  \n",
      "---  ------                          --------------   -----  \n",
      " 0   hotel                           119390 non-null  object \n",
      " 1   is_canceled                     119390 non-null  int64  \n",
      " 2   lead_time                       119390 non-null  int64  \n",
      " 3   arrival_date_year               119390 non-null  int64  \n",
      " 4   arrival_date_month              119390 non-null  object \n",
      " 5   arrival_date_week_number        119390 non-null  int64  \n",
      " 6   arrival_date_day_of_month       119390 non-null  int64  \n",
      " 7   stays_in_weekend_nights         119390 non-null  int64  \n",
      " 8   stays_in_weekdays_nights        119390 non-null  int64  \n",
      " 9   adults                          119390 non-null  int64  \n",
      " 10  children                        119386 non-null  float64\n",
      " 11  babies                          119390 non-null  int64  \n",
      " 12  meal                            119390 non-null  object \n",
      " 13  city                            118902 non-null  object \n",
      " 14  market_segment                  119390 non-null  object \n",
      " 15  distribution_channel            119390 non-null  object \n",
      " 16  is_repeated_guest               119390 non-null  int64  \n",
      " 17  previous_cancellations          119390 non-null  int64  \n",
      " 18  previous_bookings_not_canceled  119390 non-null  int64  \n",
      " 19  booking_changes                 119390 non-null  int64  \n",
      " 20  deposit_type                    119390 non-null  object \n",
      " 21  agent                           103050 non-null  float64\n",
      " 22  company                         6797 non-null    float64\n",
      " 23  days_in_waiting_list            119390 non-null  int64  \n",
      " 24  customer_type                   119390 non-null  object \n",
      " 25  adr                             119390 non-null  float64\n",
      " 26  required_car_parking_spaces     119390 non-null  int64  \n",
      " 27  total_of_special_requests       119390 non-null  int64  \n",
      " 28  reservation_status              119390 non-null  object \n",
      "dtypes: float64(4), int64(16), object(9)\n",
      "memory usage: 26.4+ MB\n"
     ]
    }
   ],
   "source": [
    "df.info()"
   ]
  },
  {
   "cell_type": "markdown",
   "id": "406c38b8",
   "metadata": {
    "id": "406c38b8"
   },
   "source": [
    "- Kolom dan tipe data sudah sesuai dengan inputan\n",
    "- Namun ada beberapa kolom numerik yang seharusnya kategorik yaitu 'is_canceled', 'is_repeated_guest', 'agent', 'company'. Oleh karena terlebih dahulu untuk diubah\n",
    "- Setelah hal tersebut akan dipisahkan antara kolom numerik dan kategorik"
   ]
  },
  {
   "cell_type": "code",
   "execution_count": 5,
   "id": "f6bf5003",
   "metadata": {
    "id": "f6bf5003"
   },
   "outputs": [],
   "source": [
    "df[['is_canceled', 'is_repeated_guest', 'agent', 'company']]=df[['is_canceled', 'is_repeated_guest', 'agent', 'company']].astype(np.object)"
   ]
  },
  {
   "cell_type": "code",
   "execution_count": 6,
   "id": "4fdc385d",
   "metadata": {
    "colab": {
     "base_uri": "https://localhost:8080/"
    },
    "id": "4fdc385d",
    "outputId": "39303bf1-6a2d-4ad4-ae5d-4cce9ea350f7"
   },
   "outputs": [
    {
     "name": "stdout",
     "output_type": "stream",
     "text": [
      "<class 'pandas.core.frame.DataFrame'>\n",
      "RangeIndex: 119390 entries, 0 to 119389\n",
      "Data columns (total 29 columns):\n",
      " #   Column                          Non-Null Count   Dtype  \n",
      "---  ------                          --------------   -----  \n",
      " 0   hotel                           119390 non-null  object \n",
      " 1   is_canceled                     119390 non-null  object \n",
      " 2   lead_time                       119390 non-null  int64  \n",
      " 3   arrival_date_year               119390 non-null  int64  \n",
      " 4   arrival_date_month              119390 non-null  object \n",
      " 5   arrival_date_week_number        119390 non-null  int64  \n",
      " 6   arrival_date_day_of_month       119390 non-null  int64  \n",
      " 7   stays_in_weekend_nights         119390 non-null  int64  \n",
      " 8   stays_in_weekdays_nights        119390 non-null  int64  \n",
      " 9   adults                          119390 non-null  int64  \n",
      " 10  children                        119386 non-null  float64\n",
      " 11  babies                          119390 non-null  int64  \n",
      " 12  meal                            119390 non-null  object \n",
      " 13  city                            118902 non-null  object \n",
      " 14  market_segment                  119390 non-null  object \n",
      " 15  distribution_channel            119390 non-null  object \n",
      " 16  is_repeated_guest               119390 non-null  object \n",
      " 17  previous_cancellations          119390 non-null  int64  \n",
      " 18  previous_bookings_not_canceled  119390 non-null  int64  \n",
      " 19  booking_changes                 119390 non-null  int64  \n",
      " 20  deposit_type                    119390 non-null  object \n",
      " 21  agent                           103050 non-null  object \n",
      " 22  company                         6797 non-null    object \n",
      " 23  days_in_waiting_list            119390 non-null  int64  \n",
      " 24  customer_type                   119390 non-null  object \n",
      " 25  adr                             119390 non-null  float64\n",
      " 26  required_car_parking_spaces     119390 non-null  int64  \n",
      " 27  total_of_special_requests       119390 non-null  int64  \n",
      " 28  reservation_status              119390 non-null  object \n",
      "dtypes: float64(2), int64(14), object(13)\n",
      "memory usage: 26.4+ MB\n"
     ]
    }
   ],
   "source": [
    "df.info()"
   ]
  },
  {
   "cell_type": "code",
   "execution_count": 7,
   "id": "f4e37103",
   "metadata": {
    "id": "f4e37103"
   },
   "outputs": [],
   "source": [
    "#memisahkan kolom numerik dan kategorik\n",
    "num = df.select_dtypes(include=[np.number])\n",
    "cat = df.select_dtypes(exclude=[np.number])"
   ]
  },
  {
   "cell_type": "markdown",
   "id": "b31cc801",
   "metadata": {
    "id": "b31cc801"
   },
   "source": [
    "- Setelah dicek kembali, kolom-kolom numerik namun seharusnya adalah kolom kategorik telah dipisahkan "
   ]
  },
  {
   "cell_type": "markdown",
   "id": "58bcf216",
   "metadata": {
    "id": "58bcf216"
   },
   "source": [
    "## Descriptive Statistic"
   ]
  },
  {
   "cell_type": "code",
   "execution_count": 8,
   "id": "66cb2c76",
   "metadata": {
    "colab": {
     "base_uri": "https://localhost:8080/",
     "height": 364
    },
    "id": "66cb2c76",
    "outputId": "ffefc31c-9b6f-433c-dfd7-628cb10c9612",
    "scrolled": true
   },
   "outputs": [
    {
     "data": {
      "text/html": [
       "<div>\n",
       "<style scoped>\n",
       "    .dataframe tbody tr th:only-of-type {\n",
       "        vertical-align: middle;\n",
       "    }\n",
       "\n",
       "    .dataframe tbody tr th {\n",
       "        vertical-align: top;\n",
       "    }\n",
       "\n",
       "    .dataframe thead th {\n",
       "        text-align: right;\n",
       "    }\n",
       "</style>\n",
       "<table border=\"1\" class=\"dataframe\">\n",
       "  <thead>\n",
       "    <tr style=\"text-align: right;\">\n",
       "      <th></th>\n",
       "      <th>lead_time</th>\n",
       "      <th>arrival_date_year</th>\n",
       "      <th>arrival_date_week_number</th>\n",
       "      <th>arrival_date_day_of_month</th>\n",
       "      <th>stays_in_weekend_nights</th>\n",
       "      <th>stays_in_weekdays_nights</th>\n",
       "      <th>adults</th>\n",
       "      <th>children</th>\n",
       "      <th>babies</th>\n",
       "      <th>previous_cancellations</th>\n",
       "      <th>previous_bookings_not_canceled</th>\n",
       "      <th>booking_changes</th>\n",
       "      <th>days_in_waiting_list</th>\n",
       "      <th>adr</th>\n",
       "      <th>required_car_parking_spaces</th>\n",
       "      <th>total_of_special_requests</th>\n",
       "    </tr>\n",
       "  </thead>\n",
       "  <tbody>\n",
       "    <tr>\n",
       "      <th>count</th>\n",
       "      <td>119390.000000</td>\n",
       "      <td>119390.000000</td>\n",
       "      <td>119390.000000</td>\n",
       "      <td>119390.000000</td>\n",
       "      <td>119390.000000</td>\n",
       "      <td>119390.000000</td>\n",
       "      <td>119390.000000</td>\n",
       "      <td>119386.000000</td>\n",
       "      <td>119390.000000</td>\n",
       "      <td>119390.000000</td>\n",
       "      <td>119390.000000</td>\n",
       "      <td>119390.000000</td>\n",
       "      <td>119390.000000</td>\n",
       "      <td>119390.000000</td>\n",
       "      <td>119390.000000</td>\n",
       "      <td>119390.000000</td>\n",
       "    </tr>\n",
       "    <tr>\n",
       "      <th>mean</th>\n",
       "      <td>104.011416</td>\n",
       "      <td>2018.156554</td>\n",
       "      <td>27.165173</td>\n",
       "      <td>15.798241</td>\n",
       "      <td>0.927599</td>\n",
       "      <td>2.500302</td>\n",
       "      <td>1.856403</td>\n",
       "      <td>0.103890</td>\n",
       "      <td>0.007949</td>\n",
       "      <td>0.087118</td>\n",
       "      <td>0.137097</td>\n",
       "      <td>0.221124</td>\n",
       "      <td>2.321149</td>\n",
       "      <td>101.831122</td>\n",
       "      <td>0.062518</td>\n",
       "      <td>0.571363</td>\n",
       "    </tr>\n",
       "    <tr>\n",
       "      <th>std</th>\n",
       "      <td>106.863097</td>\n",
       "      <td>0.707476</td>\n",
       "      <td>13.605138</td>\n",
       "      <td>8.780829</td>\n",
       "      <td>0.998613</td>\n",
       "      <td>1.908286</td>\n",
       "      <td>0.579261</td>\n",
       "      <td>0.398561</td>\n",
       "      <td>0.097436</td>\n",
       "      <td>0.844336</td>\n",
       "      <td>1.497437</td>\n",
       "      <td>0.652306</td>\n",
       "      <td>17.594721</td>\n",
       "      <td>50.535790</td>\n",
       "      <td>0.245291</td>\n",
       "      <td>0.792798</td>\n",
       "    </tr>\n",
       "    <tr>\n",
       "      <th>min</th>\n",
       "      <td>0.000000</td>\n",
       "      <td>2017.000000</td>\n",
       "      <td>1.000000</td>\n",
       "      <td>1.000000</td>\n",
       "      <td>0.000000</td>\n",
       "      <td>0.000000</td>\n",
       "      <td>0.000000</td>\n",
       "      <td>0.000000</td>\n",
       "      <td>0.000000</td>\n",
       "      <td>0.000000</td>\n",
       "      <td>0.000000</td>\n",
       "      <td>0.000000</td>\n",
       "      <td>0.000000</td>\n",
       "      <td>-6.380000</td>\n",
       "      <td>0.000000</td>\n",
       "      <td>0.000000</td>\n",
       "    </tr>\n",
       "    <tr>\n",
       "      <th>25%</th>\n",
       "      <td>18.000000</td>\n",
       "      <td>2018.000000</td>\n",
       "      <td>16.000000</td>\n",
       "      <td>8.000000</td>\n",
       "      <td>0.000000</td>\n",
       "      <td>1.000000</td>\n",
       "      <td>2.000000</td>\n",
       "      <td>0.000000</td>\n",
       "      <td>0.000000</td>\n",
       "      <td>0.000000</td>\n",
       "      <td>0.000000</td>\n",
       "      <td>0.000000</td>\n",
       "      <td>0.000000</td>\n",
       "      <td>69.290000</td>\n",
       "      <td>0.000000</td>\n",
       "      <td>0.000000</td>\n",
       "    </tr>\n",
       "    <tr>\n",
       "      <th>50%</th>\n",
       "      <td>69.000000</td>\n",
       "      <td>2018.000000</td>\n",
       "      <td>28.000000</td>\n",
       "      <td>16.000000</td>\n",
       "      <td>1.000000</td>\n",
       "      <td>2.000000</td>\n",
       "      <td>2.000000</td>\n",
       "      <td>0.000000</td>\n",
       "      <td>0.000000</td>\n",
       "      <td>0.000000</td>\n",
       "      <td>0.000000</td>\n",
       "      <td>0.000000</td>\n",
       "      <td>0.000000</td>\n",
       "      <td>94.575000</td>\n",
       "      <td>0.000000</td>\n",
       "      <td>0.000000</td>\n",
       "    </tr>\n",
       "    <tr>\n",
       "      <th>75%</th>\n",
       "      <td>160.000000</td>\n",
       "      <td>2019.000000</td>\n",
       "      <td>38.000000</td>\n",
       "      <td>23.000000</td>\n",
       "      <td>2.000000</td>\n",
       "      <td>3.000000</td>\n",
       "      <td>2.000000</td>\n",
       "      <td>0.000000</td>\n",
       "      <td>0.000000</td>\n",
       "      <td>0.000000</td>\n",
       "      <td>0.000000</td>\n",
       "      <td>0.000000</td>\n",
       "      <td>0.000000</td>\n",
       "      <td>126.000000</td>\n",
       "      <td>0.000000</td>\n",
       "      <td>1.000000</td>\n",
       "    </tr>\n",
       "    <tr>\n",
       "      <th>max</th>\n",
       "      <td>737.000000</td>\n",
       "      <td>2019.000000</td>\n",
       "      <td>53.000000</td>\n",
       "      <td>31.000000</td>\n",
       "      <td>19.000000</td>\n",
       "      <td>50.000000</td>\n",
       "      <td>55.000000</td>\n",
       "      <td>10.000000</td>\n",
       "      <td>10.000000</td>\n",
       "      <td>26.000000</td>\n",
       "      <td>72.000000</td>\n",
       "      <td>21.000000</td>\n",
       "      <td>391.000000</td>\n",
       "      <td>5400.000000</td>\n",
       "      <td>8.000000</td>\n",
       "      <td>5.000000</td>\n",
       "    </tr>\n",
       "  </tbody>\n",
       "</table>\n",
       "</div>"
      ],
      "text/plain": [
       "           lead_time  arrival_date_year  arrival_date_week_number  \\\n",
       "count  119390.000000      119390.000000             119390.000000   \n",
       "mean      104.011416        2018.156554                 27.165173   \n",
       "std       106.863097           0.707476                 13.605138   \n",
       "min         0.000000        2017.000000                  1.000000   \n",
       "25%        18.000000        2018.000000                 16.000000   \n",
       "50%        69.000000        2018.000000                 28.000000   \n",
       "75%       160.000000        2019.000000                 38.000000   \n",
       "max       737.000000        2019.000000                 53.000000   \n",
       "\n",
       "       arrival_date_day_of_month  stays_in_weekend_nights  \\\n",
       "count              119390.000000            119390.000000   \n",
       "mean                   15.798241                 0.927599   \n",
       "std                     8.780829                 0.998613   \n",
       "min                     1.000000                 0.000000   \n",
       "25%                     8.000000                 0.000000   \n",
       "50%                    16.000000                 1.000000   \n",
       "75%                    23.000000                 2.000000   \n",
       "max                    31.000000                19.000000   \n",
       "\n",
       "       stays_in_weekdays_nights         adults       children         babies  \\\n",
       "count             119390.000000  119390.000000  119386.000000  119390.000000   \n",
       "mean                   2.500302       1.856403       0.103890       0.007949   \n",
       "std                    1.908286       0.579261       0.398561       0.097436   \n",
       "min                    0.000000       0.000000       0.000000       0.000000   \n",
       "25%                    1.000000       2.000000       0.000000       0.000000   \n",
       "50%                    2.000000       2.000000       0.000000       0.000000   \n",
       "75%                    3.000000       2.000000       0.000000       0.000000   \n",
       "max                   50.000000      55.000000      10.000000      10.000000   \n",
       "\n",
       "       previous_cancellations  previous_bookings_not_canceled  \\\n",
       "count           119390.000000                   119390.000000   \n",
       "mean                 0.087118                        0.137097   \n",
       "std                  0.844336                        1.497437   \n",
       "min                  0.000000                        0.000000   \n",
       "25%                  0.000000                        0.000000   \n",
       "50%                  0.000000                        0.000000   \n",
       "75%                  0.000000                        0.000000   \n",
       "max                 26.000000                       72.000000   \n",
       "\n",
       "       booking_changes  days_in_waiting_list            adr  \\\n",
       "count    119390.000000         119390.000000  119390.000000   \n",
       "mean          0.221124              2.321149     101.831122   \n",
       "std           0.652306             17.594721      50.535790   \n",
       "min           0.000000              0.000000      -6.380000   \n",
       "25%           0.000000              0.000000      69.290000   \n",
       "50%           0.000000              0.000000      94.575000   \n",
       "75%           0.000000              0.000000     126.000000   \n",
       "max          21.000000            391.000000    5400.000000   \n",
       "\n",
       "       required_car_parking_spaces  total_of_special_requests  \n",
       "count                119390.000000              119390.000000  \n",
       "mean                      0.062518                   0.571363  \n",
       "std                       0.245291                   0.792798  \n",
       "min                       0.000000                   0.000000  \n",
       "25%                       0.000000                   0.000000  \n",
       "50%                       0.000000                   0.000000  \n",
       "75%                       0.000000                   1.000000  \n",
       "max                       8.000000                   5.000000  "
      ]
     },
     "execution_count": 8,
     "metadata": {},
     "output_type": "execute_result"
    }
   ],
   "source": [
    "df.describe()"
   ]
  },
  {
   "cell_type": "code",
   "execution_count": 9,
   "id": "2ed451a1",
   "metadata": {
    "colab": {
     "base_uri": "https://localhost:8080/",
     "height": 175
    },
    "id": "2ed451a1",
    "outputId": "feb0802b-dc22-4d6b-f375-76bfb87a2b48"
   },
   "outputs": [
    {
     "data": {
      "text/html": [
       "<div>\n",
       "<style scoped>\n",
       "    .dataframe tbody tr th:only-of-type {\n",
       "        vertical-align: middle;\n",
       "    }\n",
       "\n",
       "    .dataframe tbody tr th {\n",
       "        vertical-align: top;\n",
       "    }\n",
       "\n",
       "    .dataframe thead th {\n",
       "        text-align: right;\n",
       "    }\n",
       "</style>\n",
       "<table border=\"1\" class=\"dataframe\">\n",
       "  <thead>\n",
       "    <tr style=\"text-align: right;\">\n",
       "      <th></th>\n",
       "      <th>hotel</th>\n",
       "      <th>is_canceled</th>\n",
       "      <th>arrival_date_month</th>\n",
       "      <th>meal</th>\n",
       "      <th>city</th>\n",
       "      <th>market_segment</th>\n",
       "      <th>distribution_channel</th>\n",
       "      <th>is_repeated_guest</th>\n",
       "      <th>deposit_type</th>\n",
       "      <th>agent</th>\n",
       "      <th>company</th>\n",
       "      <th>customer_type</th>\n",
       "      <th>reservation_status</th>\n",
       "    </tr>\n",
       "  </thead>\n",
       "  <tbody>\n",
       "    <tr>\n",
       "      <th>count</th>\n",
       "      <td>119390</td>\n",
       "      <td>119390</td>\n",
       "      <td>119390</td>\n",
       "      <td>119390</td>\n",
       "      <td>118902</td>\n",
       "      <td>119390</td>\n",
       "      <td>119390</td>\n",
       "      <td>119390</td>\n",
       "      <td>119390</td>\n",
       "      <td>103050.0</td>\n",
       "      <td>6797.0</td>\n",
       "      <td>119390</td>\n",
       "      <td>119390</td>\n",
       "    </tr>\n",
       "    <tr>\n",
       "      <th>unique</th>\n",
       "      <td>2</td>\n",
       "      <td>2</td>\n",
       "      <td>12</td>\n",
       "      <td>5</td>\n",
       "      <td>177</td>\n",
       "      <td>8</td>\n",
       "      <td>5</td>\n",
       "      <td>2</td>\n",
       "      <td>3</td>\n",
       "      <td>333.0</td>\n",
       "      <td>352.0</td>\n",
       "      <td>4</td>\n",
       "      <td>3</td>\n",
       "    </tr>\n",
       "    <tr>\n",
       "      <th>top</th>\n",
       "      <td>City Hotel</td>\n",
       "      <td>0</td>\n",
       "      <td>October</td>\n",
       "      <td>Breakfast</td>\n",
       "      <td>Kota Denpasar</td>\n",
       "      <td>Online TA</td>\n",
       "      <td>TA/TO</td>\n",
       "      <td>0</td>\n",
       "      <td>No Deposit</td>\n",
       "      <td>9.0</td>\n",
       "      <td>40.0</td>\n",
       "      <td>Personal</td>\n",
       "      <td>Check-Out</td>\n",
       "    </tr>\n",
       "    <tr>\n",
       "      <th>freq</th>\n",
       "      <td>79330</td>\n",
       "      <td>75166</td>\n",
       "      <td>13877</td>\n",
       "      <td>92310</td>\n",
       "      <td>48590</td>\n",
       "      <td>56477</td>\n",
       "      <td>97870</td>\n",
       "      <td>115580</td>\n",
       "      <td>104641</td>\n",
       "      <td>31961.0</td>\n",
       "      <td>927.0</td>\n",
       "      <td>89613</td>\n",
       "      <td>75166</td>\n",
       "    </tr>\n",
       "  </tbody>\n",
       "</table>\n",
       "</div>"
      ],
      "text/plain": [
       "             hotel  is_canceled arrival_date_month       meal           city  \\\n",
       "count       119390       119390             119390     119390         118902   \n",
       "unique           2            2                 12          5            177   \n",
       "top     City Hotel            0            October  Breakfast  Kota Denpasar   \n",
       "freq         79330        75166              13877      92310          48590   \n",
       "\n",
       "       market_segment distribution_channel  is_repeated_guest deposit_type  \\\n",
       "count          119390               119390             119390       119390   \n",
       "unique              8                    5                  2            3   \n",
       "top         Online TA                TA/TO                  0   No Deposit   \n",
       "freq            56477                97870             115580       104641   \n",
       "\n",
       "           agent  company customer_type reservation_status  \n",
       "count   103050.0   6797.0        119390             119390  \n",
       "unique     333.0    352.0             4                  3  \n",
       "top          9.0     40.0      Personal          Check-Out  \n",
       "freq     31961.0    927.0         89613              75166  "
      ]
     },
     "execution_count": 9,
     "metadata": {},
     "output_type": "execute_result"
    }
   ],
   "source": [
    "df.describe(include='object')"
   ]
  },
  {
   "cell_type": "code",
   "execution_count": 10,
   "id": "e506ba31",
   "metadata": {
    "colab": {
     "base_uri": "https://localhost:8080/",
     "height": 162
    },
    "id": "e506ba31",
    "outputId": "d5318218-ce92-4dae-ac64-41611de93ef7",
    "scrolled": true
   },
   "outputs": [
    {
     "data": {
      "text/html": [
       "<div>\n",
       "<style scoped>\n",
       "    .dataframe tbody tr th:only-of-type {\n",
       "        vertical-align: middle;\n",
       "    }\n",
       "\n",
       "    .dataframe tbody tr th {\n",
       "        vertical-align: top;\n",
       "    }\n",
       "\n",
       "    .dataframe thead th {\n",
       "        text-align: right;\n",
       "    }\n",
       "</style>\n",
       "<table border=\"1\" class=\"dataframe\">\n",
       "  <thead>\n",
       "    <tr style=\"text-align: right;\">\n",
       "      <th></th>\n",
       "      <th>hotel</th>\n",
       "      <th>is_canceled</th>\n",
       "      <th>lead_time</th>\n",
       "      <th>arrival_date_year</th>\n",
       "      <th>arrival_date_month</th>\n",
       "      <th>arrival_date_week_number</th>\n",
       "      <th>arrival_date_day_of_month</th>\n",
       "      <th>stays_in_weekend_nights</th>\n",
       "      <th>stays_in_weekdays_nights</th>\n",
       "      <th>adults</th>\n",
       "      <th>children</th>\n",
       "      <th>babies</th>\n",
       "      <th>meal</th>\n",
       "      <th>city</th>\n",
       "      <th>market_segment</th>\n",
       "      <th>distribution_channel</th>\n",
       "      <th>is_repeated_guest</th>\n",
       "      <th>previous_cancellations</th>\n",
       "      <th>previous_bookings_not_canceled</th>\n",
       "      <th>booking_changes</th>\n",
       "      <th>deposit_type</th>\n",
       "      <th>agent</th>\n",
       "      <th>company</th>\n",
       "      <th>days_in_waiting_list</th>\n",
       "      <th>customer_type</th>\n",
       "      <th>adr</th>\n",
       "      <th>required_car_parking_spaces</th>\n",
       "      <th>total_of_special_requests</th>\n",
       "      <th>reservation_status</th>\n",
       "    </tr>\n",
       "  </thead>\n",
       "  <tbody>\n",
       "    <tr>\n",
       "      <th>14969</th>\n",
       "      <td>Resort Hotel</td>\n",
       "      <td>0</td>\n",
       "      <td>195</td>\n",
       "      <td>2019</td>\n",
       "      <td>May</td>\n",
       "      <td>10</td>\n",
       "      <td>5</td>\n",
       "      <td>4</td>\n",
       "      <td>6</td>\n",
       "      <td>2</td>\n",
       "      <td>0.0</td>\n",
       "      <td>0</td>\n",
       "      <td>Breakfast</td>\n",
       "      <td>Kabupaten Bangka</td>\n",
       "      <td>Groups</td>\n",
       "      <td>Direct</td>\n",
       "      <td>1</td>\n",
       "      <td>0</td>\n",
       "      <td>2</td>\n",
       "      <td>2</td>\n",
       "      <td>No Deposit</td>\n",
       "      <td>273.0</td>\n",
       "      <td>NaN</td>\n",
       "      <td>0</td>\n",
       "      <td>Family</td>\n",
       "      <td>-6.38</td>\n",
       "      <td>0</td>\n",
       "      <td>0</td>\n",
       "      <td>Check-Out</td>\n",
       "    </tr>\n",
       "  </tbody>\n",
       "</table>\n",
       "</div>"
      ],
      "text/plain": [
       "              hotel is_canceled  lead_time  arrival_date_year  \\\n",
       "14969  Resort Hotel           0        195               2019   \n",
       "\n",
       "      arrival_date_month  arrival_date_week_number  arrival_date_day_of_month  \\\n",
       "14969                May                        10                          5   \n",
       "\n",
       "       stays_in_weekend_nights  stays_in_weekdays_nights  adults  children  \\\n",
       "14969                        4                         6       2       0.0   \n",
       "\n",
       "       babies       meal              city market_segment  \\\n",
       "14969       0  Breakfast  Kabupaten Bangka         Groups   \n",
       "\n",
       "      distribution_channel is_repeated_guest  previous_cancellations  \\\n",
       "14969               Direct                 1                       0   \n",
       "\n",
       "       previous_bookings_not_canceled  booking_changes deposit_type  agent  \\\n",
       "14969                               2                2   No Deposit  273.0   \n",
       "\n",
       "      company  days_in_waiting_list customer_type   adr  \\\n",
       "14969     NaN                     0        Family -6.38   \n",
       "\n",
       "       required_car_parking_spaces  total_of_special_requests  \\\n",
       "14969                            0                          0   \n",
       "\n",
       "      reservation_status  \n",
       "14969          Check-Out  "
      ]
     },
     "execution_count": 10,
     "metadata": {},
     "output_type": "execute_result"
    }
   ],
   "source": [
    "df[df['adr'] < 0]"
   ]
  },
  {
   "cell_type": "code",
   "execution_count": 11,
   "id": "30ff2a26",
   "metadata": {
    "colab": {
     "base_uri": "https://localhost:8080/"
    },
    "id": "30ff2a26",
    "outputId": "02b0b5d0-1200-4013-ed4c-d953f33ffc0f"
   },
   "outputs": [
    {
     "data": {
      "text/plain": [
       "array(['Breakfast', 'Full Board', 'Dinner', 'No Meal', 'Undefined'],\n",
       "      dtype=object)"
      ]
     },
     "execution_count": 11,
     "metadata": {},
     "output_type": "execute_result"
    }
   ],
   "source": [
    "df['meal'].unique()"
   ]
  },
  {
   "cell_type": "markdown",
   "id": "e8c5aa79",
   "metadata": {},
   "source": [
    "**Menambahkan kolom jumlah tamu yang menginap untuk setiap pemesanan**"
   ]
  },
  {
   "cell_type": "code",
   "execution_count": 12,
   "id": "212f2a02",
   "metadata": {},
   "outputs": [],
   "source": [
    "df['total_of_guest'] = df['adults'] + df['children'] + df['babies']"
   ]
  },
  {
   "cell_type": "code",
   "execution_count": 13,
   "id": "3d3799f7",
   "metadata": {
    "scrolled": true
   },
   "outputs": [
    {
     "data": {
      "text/html": [
       "<div>\n",
       "<style scoped>\n",
       "    .dataframe tbody tr th:only-of-type {\n",
       "        vertical-align: middle;\n",
       "    }\n",
       "\n",
       "    .dataframe tbody tr th {\n",
       "        vertical-align: top;\n",
       "    }\n",
       "\n",
       "    .dataframe thead th {\n",
       "        text-align: right;\n",
       "    }\n",
       "</style>\n",
       "<table border=\"1\" class=\"dataframe\">\n",
       "  <thead>\n",
       "    <tr style=\"text-align: right;\">\n",
       "      <th></th>\n",
       "      <th>total_of_guest</th>\n",
       "    </tr>\n",
       "    <tr>\n",
       "      <th>total_of_guest</th>\n",
       "      <th></th>\n",
       "    </tr>\n",
       "  </thead>\n",
       "  <tbody>\n",
       "    <tr>\n",
       "      <th>0.0</th>\n",
       "      <td>180</td>\n",
       "    </tr>\n",
       "    <tr>\n",
       "      <th>1.0</th>\n",
       "      <td>22581</td>\n",
       "    </tr>\n",
       "    <tr>\n",
       "      <th>2.0</th>\n",
       "      <td>82048</td>\n",
       "    </tr>\n",
       "    <tr>\n",
       "      <th>3.0</th>\n",
       "      <td>10494</td>\n",
       "    </tr>\n",
       "    <tr>\n",
       "      <th>4.0</th>\n",
       "      <td>3929</td>\n",
       "    </tr>\n",
       "    <tr>\n",
       "      <th>5.0</th>\n",
       "      <td>137</td>\n",
       "    </tr>\n",
       "    <tr>\n",
       "      <th>6.0</th>\n",
       "      <td>1</td>\n",
       "    </tr>\n",
       "    <tr>\n",
       "      <th>10.0</th>\n",
       "      <td>2</td>\n",
       "    </tr>\n",
       "    <tr>\n",
       "      <th>12.0</th>\n",
       "      <td>2</td>\n",
       "    </tr>\n",
       "    <tr>\n",
       "      <th>20.0</th>\n",
       "      <td>2</td>\n",
       "    </tr>\n",
       "    <tr>\n",
       "      <th>26.0</th>\n",
       "      <td>5</td>\n",
       "    </tr>\n",
       "    <tr>\n",
       "      <th>27.0</th>\n",
       "      <td>2</td>\n",
       "    </tr>\n",
       "    <tr>\n",
       "      <th>40.0</th>\n",
       "      <td>1</td>\n",
       "    </tr>\n",
       "    <tr>\n",
       "      <th>50.0</th>\n",
       "      <td>1</td>\n",
       "    </tr>\n",
       "    <tr>\n",
       "      <th>55.0</th>\n",
       "      <td>1</td>\n",
       "    </tr>\n",
       "  </tbody>\n",
       "</table>\n",
       "</div>"
      ],
      "text/plain": [
       "                total_of_guest\n",
       "total_of_guest                \n",
       "0.0                        180\n",
       "1.0                      22581\n",
       "2.0                      82048\n",
       "3.0                      10494\n",
       "4.0                       3929\n",
       "5.0                        137\n",
       "6.0                          1\n",
       "10.0                         2\n",
       "12.0                         2\n",
       "20.0                         2\n",
       "26.0                         5\n",
       "27.0                         2\n",
       "40.0                         1\n",
       "50.0                         1\n",
       "55.0                         1"
      ]
     },
     "execution_count": 13,
     "metadata": {},
     "output_type": "execute_result"
    }
   ],
   "source": [
    "total_guest = df.groupby(['total_of_guest']).agg({'total_of_guest':'count'})\n",
    "total_guest"
   ]
  },
  {
   "cell_type": "markdown",
   "id": "5d9284f6",
   "metadata": {},
   "source": [
    "- Baris yang memiliki total tamu = 0 akan dihapus\n",
    "- Baris adults=0, Babies dan children lebih dari 0 akan dihapus karena ada babies yang harus ada pendamping minimal 1 adults\n",
    "- Baris adults=0, children=0 dan babies>1 akan dihapus, karena babies tanpa pendamping minimal 1 adults"
   ]
  },
  {
   "cell_type": "code",
   "execution_count": 14,
   "id": "c66505d4",
   "metadata": {},
   "outputs": [],
   "source": [
    "#run codingan ini sekali\n",
    "#menghapus total tamu =0\n",
    "df = df[df['total_of_guest']>0]\n",
    "\n",
    "#menghapus adults=0, babies>0 dan children>0\n",
    "df = df[~((df['adults']==0) & (df['babies']>0) & (df['children']>0))]\n",
    "\n",
    "#menghapus adults=0, children=0, babies> 0\n",
    "\n",
    "df = df[~((df['adults']==0) & (df['babies']>0) & (df['children']==0))]"
   ]
  },
  {
   "cell_type": "code",
   "execution_count": 15,
   "id": "9bed4fa4",
   "metadata": {},
   "outputs": [
    {
     "data": {
      "text/plain": [
       "(119203, 30)"
      ]
     },
     "execution_count": 15,
     "metadata": {},
     "output_type": "execute_result"
    }
   ],
   "source": [
    "df.shape"
   ]
  },
  {
   "cell_type": "code",
   "execution_count": 16,
   "id": "e6d2523f",
   "metadata": {},
   "outputs": [
    {
     "data": {
      "text/html": [
       "<div>\n",
       "<style scoped>\n",
       "    .dataframe tbody tr th:only-of-type {\n",
       "        vertical-align: middle;\n",
       "    }\n",
       "\n",
       "    .dataframe tbody tr th {\n",
       "        vertical-align: top;\n",
       "    }\n",
       "\n",
       "    .dataframe thead th {\n",
       "        text-align: right;\n",
       "    }\n",
       "</style>\n",
       "<table border=\"1\" class=\"dataframe\">\n",
       "  <thead>\n",
       "    <tr style=\"text-align: right;\">\n",
       "      <th></th>\n",
       "      <th>lead_time</th>\n",
       "      <th>arrival_date_year</th>\n",
       "      <th>arrival_date_week_number</th>\n",
       "      <th>arrival_date_day_of_month</th>\n",
       "      <th>stays_in_weekend_nights</th>\n",
       "      <th>stays_in_weekdays_nights</th>\n",
       "      <th>adults</th>\n",
       "      <th>children</th>\n",
       "      <th>babies</th>\n",
       "      <th>previous_cancellations</th>\n",
       "      <th>previous_bookings_not_canceled</th>\n",
       "      <th>booking_changes</th>\n",
       "      <th>days_in_waiting_list</th>\n",
       "      <th>adr</th>\n",
       "      <th>required_car_parking_spaces</th>\n",
       "      <th>total_of_special_requests</th>\n",
       "      <th>total_of_guest</th>\n",
       "    </tr>\n",
       "  </thead>\n",
       "  <tbody>\n",
       "    <tr>\n",
       "      <th>count</th>\n",
       "      <td>119203.000000</td>\n",
       "      <td>119203.000000</td>\n",
       "      <td>119203.000000</td>\n",
       "      <td>119203.000000</td>\n",
       "      <td>119203.000000</td>\n",
       "      <td>119203.000000</td>\n",
       "      <td>119203.000000</td>\n",
       "      <td>119203.000000</td>\n",
       "      <td>119203.000000</td>\n",
       "      <td>119203.000000</td>\n",
       "      <td>119203.000000</td>\n",
       "      <td>119203.000000</td>\n",
       "      <td>119203.000000</td>\n",
       "      <td>119203.000000</td>\n",
       "      <td>119203.000000</td>\n",
       "      <td>119203.000000</td>\n",
       "      <td>119203.000000</td>\n",
       "    </tr>\n",
       "    <tr>\n",
       "      <th>mean</th>\n",
       "      <td>104.114888</td>\n",
       "      <td>2018.156531</td>\n",
       "      <td>27.162840</td>\n",
       "      <td>15.799124</td>\n",
       "      <td>0.927074</td>\n",
       "      <td>2.499199</td>\n",
       "      <td>1.859240</td>\n",
       "      <td>0.103999</td>\n",
       "      <td>0.007936</td>\n",
       "      <td>0.087196</td>\n",
       "      <td>0.137102</td>\n",
       "      <td>0.218786</td>\n",
       "      <td>2.321351</td>\n",
       "      <td>101.971785</td>\n",
       "      <td>0.062557</td>\n",
       "      <td>0.571454</td>\n",
       "      <td>1.971175</td>\n",
       "    </tr>\n",
       "    <tr>\n",
       "      <th>std</th>\n",
       "      <td>106.876021</td>\n",
       "      <td>0.707458</td>\n",
       "      <td>13.601135</td>\n",
       "      <td>8.781088</td>\n",
       "      <td>0.995127</td>\n",
       "      <td>1.897122</td>\n",
       "      <td>0.575117</td>\n",
       "      <td>0.398733</td>\n",
       "      <td>0.097385</td>\n",
       "      <td>0.844943</td>\n",
       "      <td>1.498181</td>\n",
       "      <td>0.638497</td>\n",
       "      <td>17.598510</td>\n",
       "      <td>50.433394</td>\n",
       "      <td>0.245366</td>\n",
       "      <td>0.792863</td>\n",
       "      <td>0.718873</td>\n",
       "    </tr>\n",
       "    <tr>\n",
       "      <th>min</th>\n",
       "      <td>0.000000</td>\n",
       "      <td>2017.000000</td>\n",
       "      <td>1.000000</td>\n",
       "      <td>1.000000</td>\n",
       "      <td>0.000000</td>\n",
       "      <td>0.000000</td>\n",
       "      <td>0.000000</td>\n",
       "      <td>0.000000</td>\n",
       "      <td>0.000000</td>\n",
       "      <td>0.000000</td>\n",
       "      <td>0.000000</td>\n",
       "      <td>0.000000</td>\n",
       "      <td>0.000000</td>\n",
       "      <td>-6.380000</td>\n",
       "      <td>0.000000</td>\n",
       "      <td>0.000000</td>\n",
       "      <td>1.000000</td>\n",
       "    </tr>\n",
       "    <tr>\n",
       "      <th>25%</th>\n",
       "      <td>18.000000</td>\n",
       "      <td>2018.000000</td>\n",
       "      <td>16.000000</td>\n",
       "      <td>8.000000</td>\n",
       "      <td>0.000000</td>\n",
       "      <td>1.000000</td>\n",
       "      <td>2.000000</td>\n",
       "      <td>0.000000</td>\n",
       "      <td>0.000000</td>\n",
       "      <td>0.000000</td>\n",
       "      <td>0.000000</td>\n",
       "      <td>0.000000</td>\n",
       "      <td>0.000000</td>\n",
       "      <td>69.500000</td>\n",
       "      <td>0.000000</td>\n",
       "      <td>0.000000</td>\n",
       "      <td>2.000000</td>\n",
       "    </tr>\n",
       "    <tr>\n",
       "      <th>50%</th>\n",
       "      <td>69.000000</td>\n",
       "      <td>2018.000000</td>\n",
       "      <td>28.000000</td>\n",
       "      <td>16.000000</td>\n",
       "      <td>1.000000</td>\n",
       "      <td>2.000000</td>\n",
       "      <td>2.000000</td>\n",
       "      <td>0.000000</td>\n",
       "      <td>0.000000</td>\n",
       "      <td>0.000000</td>\n",
       "      <td>0.000000</td>\n",
       "      <td>0.000000</td>\n",
       "      <td>0.000000</td>\n",
       "      <td>94.950000</td>\n",
       "      <td>0.000000</td>\n",
       "      <td>0.000000</td>\n",
       "      <td>2.000000</td>\n",
       "    </tr>\n",
       "    <tr>\n",
       "      <th>75%</th>\n",
       "      <td>161.000000</td>\n",
       "      <td>2019.000000</td>\n",
       "      <td>38.000000</td>\n",
       "      <td>23.000000</td>\n",
       "      <td>2.000000</td>\n",
       "      <td>3.000000</td>\n",
       "      <td>2.000000</td>\n",
       "      <td>0.000000</td>\n",
       "      <td>0.000000</td>\n",
       "      <td>0.000000</td>\n",
       "      <td>0.000000</td>\n",
       "      <td>0.000000</td>\n",
       "      <td>0.000000</td>\n",
       "      <td>126.000000</td>\n",
       "      <td>0.000000</td>\n",
       "      <td>1.000000</td>\n",
       "      <td>2.000000</td>\n",
       "    </tr>\n",
       "    <tr>\n",
       "      <th>max</th>\n",
       "      <td>737.000000</td>\n",
       "      <td>2019.000000</td>\n",
       "      <td>53.000000</td>\n",
       "      <td>31.000000</td>\n",
       "      <td>19.000000</td>\n",
       "      <td>50.000000</td>\n",
       "      <td>55.000000</td>\n",
       "      <td>10.000000</td>\n",
       "      <td>10.000000</td>\n",
       "      <td>26.000000</td>\n",
       "      <td>72.000000</td>\n",
       "      <td>18.000000</td>\n",
       "      <td>391.000000</td>\n",
       "      <td>5400.000000</td>\n",
       "      <td>8.000000</td>\n",
       "      <td>5.000000</td>\n",
       "      <td>55.000000</td>\n",
       "    </tr>\n",
       "  </tbody>\n",
       "</table>\n",
       "</div>"
      ],
      "text/plain": [
       "           lead_time  arrival_date_year  arrival_date_week_number  \\\n",
       "count  119203.000000      119203.000000             119203.000000   \n",
       "mean      104.114888        2018.156531                 27.162840   \n",
       "std       106.876021           0.707458                 13.601135   \n",
       "min         0.000000        2017.000000                  1.000000   \n",
       "25%        18.000000        2018.000000                 16.000000   \n",
       "50%        69.000000        2018.000000                 28.000000   \n",
       "75%       161.000000        2019.000000                 38.000000   \n",
       "max       737.000000        2019.000000                 53.000000   \n",
       "\n",
       "       arrival_date_day_of_month  stays_in_weekend_nights  \\\n",
       "count              119203.000000            119203.000000   \n",
       "mean                   15.799124                 0.927074   \n",
       "std                     8.781088                 0.995127   \n",
       "min                     1.000000                 0.000000   \n",
       "25%                     8.000000                 0.000000   \n",
       "50%                    16.000000                 1.000000   \n",
       "75%                    23.000000                 2.000000   \n",
       "max                    31.000000                19.000000   \n",
       "\n",
       "       stays_in_weekdays_nights         adults       children         babies  \\\n",
       "count             119203.000000  119203.000000  119203.000000  119203.000000   \n",
       "mean                   2.499199       1.859240       0.103999       0.007936   \n",
       "std                    1.897122       0.575117       0.398733       0.097385   \n",
       "min                    0.000000       0.000000       0.000000       0.000000   \n",
       "25%                    1.000000       2.000000       0.000000       0.000000   \n",
       "50%                    2.000000       2.000000       0.000000       0.000000   \n",
       "75%                    3.000000       2.000000       0.000000       0.000000   \n",
       "max                   50.000000      55.000000      10.000000      10.000000   \n",
       "\n",
       "       previous_cancellations  previous_bookings_not_canceled  \\\n",
       "count           119203.000000                   119203.000000   \n",
       "mean                 0.087196                        0.137102   \n",
       "std                  0.844943                        1.498181   \n",
       "min                  0.000000                        0.000000   \n",
       "25%                  0.000000                        0.000000   \n",
       "50%                  0.000000                        0.000000   \n",
       "75%                  0.000000                        0.000000   \n",
       "max                 26.000000                       72.000000   \n",
       "\n",
       "       booking_changes  days_in_waiting_list            adr  \\\n",
       "count    119203.000000         119203.000000  119203.000000   \n",
       "mean          0.218786              2.321351     101.971785   \n",
       "std           0.638497             17.598510      50.433394   \n",
       "min           0.000000              0.000000      -6.380000   \n",
       "25%           0.000000              0.000000      69.500000   \n",
       "50%           0.000000              0.000000      94.950000   \n",
       "75%           0.000000              0.000000     126.000000   \n",
       "max          18.000000            391.000000    5400.000000   \n",
       "\n",
       "       required_car_parking_spaces  total_of_special_requests  total_of_guest  \n",
       "count                119203.000000              119203.000000   119203.000000  \n",
       "mean                      0.062557                   0.571454        1.971175  \n",
       "std                       0.245366                   0.792863        0.718873  \n",
       "min                       0.000000                   0.000000        1.000000  \n",
       "25%                       0.000000                   0.000000        2.000000  \n",
       "50%                       0.000000                   0.000000        2.000000  \n",
       "75%                       0.000000                   1.000000        2.000000  \n",
       "max                       8.000000                   5.000000       55.000000  "
      ]
     },
     "execution_count": 16,
     "metadata": {},
     "output_type": "execute_result"
    }
   ],
   "source": [
    "df.describe()"
   ]
  },
  {
   "cell_type": "markdown",
   "id": "32d2e705",
   "metadata": {
    "id": "32d2e705"
   },
   "source": [
    "**Kesesuain data :**\n",
    "\n",
    "- Pada kolom adr nilai minimumnya adalah negatif dan setelah dilakukan pengecekan ada satu baris dimana adr nya negatif, oleh karena itu akan dihapus, karena rata-rata booking tidak mungkin negatif\n",
    "- Pada statistic descriptive kolom kategorik secara keseluruhan kesesuaian datanya sudah tepat\n",
    "- Pada kolom tambahan yaitu total_of_guest dan beberapa kondisi lain seperti jumlah tamu adults, babies dan children sudah sesuai\n",
    "- Kemudian pada jumlah kelas meal undifined akan diganti dengan 'No Meal'"
   ]
  },
  {
   "cell_type": "code",
   "execution_count": 17,
   "id": "d6a34770",
   "metadata": {
    "colab": {
     "base_uri": "https://localhost:8080/",
     "height": 113
    },
    "id": "d6a34770",
    "outputId": "8a63811a-885f-4671-a2d2-bc25c7e54fcc"
   },
   "outputs": [
    {
     "data": {
      "text/html": [
       "<div>\n",
       "<style scoped>\n",
       "    .dataframe tbody tr th:only-of-type {\n",
       "        vertical-align: middle;\n",
       "    }\n",
       "\n",
       "    .dataframe tbody tr th {\n",
       "        vertical-align: top;\n",
       "    }\n",
       "\n",
       "    .dataframe thead th {\n",
       "        text-align: right;\n",
       "    }\n",
       "</style>\n",
       "<table border=\"1\" class=\"dataframe\">\n",
       "  <thead>\n",
       "    <tr style=\"text-align: right;\">\n",
       "      <th></th>\n",
       "      <th>hotel</th>\n",
       "      <th>is_canceled</th>\n",
       "      <th>lead_time</th>\n",
       "      <th>arrival_date_year</th>\n",
       "      <th>arrival_date_month</th>\n",
       "      <th>arrival_date_week_number</th>\n",
       "      <th>arrival_date_day_of_month</th>\n",
       "      <th>stays_in_weekend_nights</th>\n",
       "      <th>stays_in_weekdays_nights</th>\n",
       "      <th>adults</th>\n",
       "      <th>children</th>\n",
       "      <th>babies</th>\n",
       "      <th>meal</th>\n",
       "      <th>city</th>\n",
       "      <th>market_segment</th>\n",
       "      <th>distribution_channel</th>\n",
       "      <th>is_repeated_guest</th>\n",
       "      <th>previous_cancellations</th>\n",
       "      <th>previous_bookings_not_canceled</th>\n",
       "      <th>booking_changes</th>\n",
       "      <th>deposit_type</th>\n",
       "      <th>agent</th>\n",
       "      <th>company</th>\n",
       "      <th>days_in_waiting_list</th>\n",
       "      <th>customer_type</th>\n",
       "      <th>adr</th>\n",
       "      <th>required_car_parking_spaces</th>\n",
       "      <th>total_of_special_requests</th>\n",
       "      <th>reservation_status</th>\n",
       "      <th>total_of_guest</th>\n",
       "    </tr>\n",
       "  </thead>\n",
       "  <tbody>\n",
       "  </tbody>\n",
       "</table>\n",
       "</div>"
      ],
      "text/plain": [
       "Empty DataFrame\n",
       "Columns: [hotel, is_canceled, lead_time, arrival_date_year, arrival_date_month, arrival_date_week_number, arrival_date_day_of_month, stays_in_weekend_nights, stays_in_weekdays_nights, adults, children, babies, meal, city, market_segment, distribution_channel, is_repeated_guest, previous_cancellations, previous_bookings_not_canceled, booking_changes, deposit_type, agent, company, days_in_waiting_list, customer_type, adr, required_car_parking_spaces, total_of_special_requests, reservation_status, total_of_guest]\n",
       "Index: []"
      ]
     },
     "execution_count": 17,
     "metadata": {},
     "output_type": "execute_result"
    }
   ],
   "source": [
    "df = df.drop(df[df['adr']<0].index)\n",
    "df[df['adr']<0]"
   ]
  },
  {
   "cell_type": "code",
   "execution_count": 18,
   "id": "cc98d8eb",
   "metadata": {
    "colab": {
     "base_uri": "https://localhost:8080/"
    },
    "id": "cc98d8eb",
    "outputId": "fc39d1b3-d15e-467e-a3d1-e94e70d3f1b3"
   },
   "outputs": [
    {
     "data": {
      "text/plain": [
       "array(['Breakfast', 'Full Board', 'Dinner', 'No Meal'], dtype=object)"
      ]
     },
     "execution_count": 18,
     "metadata": {},
     "output_type": "execute_result"
    }
   ],
   "source": [
    "df['meal'] = np.where(df['meal']=='Undefined', 'No Meal', df['meal'])\n",
    "df['meal'].unique()"
   ]
  },
  {
   "cell_type": "markdown",
   "id": "a4f055b0",
   "metadata": {
    "id": "a4f055b0"
   },
   "source": [
    "## Cek Missing Value"
   ]
  },
  {
   "cell_type": "code",
   "execution_count": 19,
   "id": "763a09bd",
   "metadata": {
    "colab": {
     "base_uri": "https://localhost:8080/"
    },
    "id": "763a09bd",
    "outputId": "e18116d2-b620-449e-8e49-07ede1d97b6b"
   },
   "outputs": [
    {
     "data": {
      "text/plain": [
       "hotel                                  0\n",
       "is_canceled                            0\n",
       "lead_time                              0\n",
       "arrival_date_year                      0\n",
       "arrival_date_month                     0\n",
       "arrival_date_week_number               0\n",
       "arrival_date_day_of_month              0\n",
       "stays_in_weekend_nights                0\n",
       "stays_in_weekdays_nights               0\n",
       "adults                                 0\n",
       "children                               0\n",
       "babies                                 0\n",
       "meal                                   0\n",
       "city                                 478\n",
       "market_segment                         0\n",
       "distribution_channel                   0\n",
       "is_repeated_guest                      0\n",
       "previous_cancellations                 0\n",
       "previous_bookings_not_canceled         0\n",
       "booking_changes                        0\n",
       "deposit_type                           0\n",
       "agent                              16278\n",
       "company                           112434\n",
       "days_in_waiting_list                   0\n",
       "customer_type                          0\n",
       "adr                                    0\n",
       "required_car_parking_spaces            0\n",
       "total_of_special_requests              0\n",
       "reservation_status                     0\n",
       "total_of_guest                         0\n",
       "dtype: int64"
      ]
     },
     "execution_count": 19,
     "metadata": {},
     "output_type": "execute_result"
    }
   ],
   "source": [
    "df.isnull().sum()"
   ]
  },
  {
   "cell_type": "markdown",
   "id": "c6d08ee4",
   "metadata": {
    "id": "c6d08ee4"
   },
   "source": [
    "- Ada kolom yang memiliki Missing Value yaitu kolom 'city, 'agent', 'company, dan 'children'"
   ]
  },
  {
   "cell_type": "code",
   "execution_count": 20,
   "id": "17d1878d",
   "metadata": {
    "colab": {
     "base_uri": "https://localhost:8080/",
     "height": 175
    },
    "id": "17d1878d",
    "outputId": "2ca76578-3466-4b07-ff57-79e63196577b"
   },
   "outputs": [
    {
     "data": {
      "text/html": [
       "<div>\n",
       "<style scoped>\n",
       "    .dataframe tbody tr th:only-of-type {\n",
       "        vertical-align: middle;\n",
       "    }\n",
       "\n",
       "    .dataframe tbody tr th {\n",
       "        vertical-align: top;\n",
       "    }\n",
       "\n",
       "    .dataframe thead th {\n",
       "        text-align: right;\n",
       "    }\n",
       "</style>\n",
       "<table border=\"1\" class=\"dataframe\">\n",
       "  <thead>\n",
       "    <tr style=\"text-align: right;\">\n",
       "      <th></th>\n",
       "      <th>Kolom</th>\n",
       "      <th>Jumlah Missing Value</th>\n",
       "      <th>Persentase Missing Value</th>\n",
       "    </tr>\n",
       "  </thead>\n",
       "  <tbody>\n",
       "    <tr>\n",
       "      <th>0</th>\n",
       "      <td>company</td>\n",
       "      <td>112434</td>\n",
       "      <td>94.32224%</td>\n",
       "    </tr>\n",
       "    <tr>\n",
       "      <th>1</th>\n",
       "      <td>agent</td>\n",
       "      <td>16278</td>\n",
       "      <td>13.65581%</td>\n",
       "    </tr>\n",
       "    <tr>\n",
       "      <th>2</th>\n",
       "      <td>city</td>\n",
       "      <td>478</td>\n",
       "      <td>0.401%</td>\n",
       "    </tr>\n",
       "  </tbody>\n",
       "</table>\n",
       "</div>"
      ],
      "text/plain": [
       "     Kolom  Jumlah Missing Value Persentase Missing Value\n",
       "0  company                112434                94.32224%\n",
       "1    agent                 16278                13.65581%\n",
       "2     city                   478                   0.401%"
      ]
     },
     "execution_count": 20,
     "metadata": {},
     "output_type": "execute_result"
    }
   ],
   "source": [
    "df_na = pd.DataFrame(df.isnull().sum().sort_values(ascending=False).reset_index())\n",
    "df_na.columns = ['Kolom', 'Jumlah Missing Value']\n",
    "df_na['Persentase Missing Value'] = round((df_na['Jumlah Missing Value']/ len(df)*100),5).astype(str) + '%'\n",
    "df_na[df_na['Jumlah Missing Value'] > 0]"
   ]
  },
  {
   "cell_type": "code",
   "execution_count": 21,
   "id": "486aadac",
   "metadata": {
    "colab": {
     "base_uri": "https://localhost:8080/"
    },
    "id": "486aadac",
    "outputId": "71613a84-596a-4682-e338-39939befaba9"
   },
   "outputs": [
    {
     "data": {
      "text/plain": [
       "array([nan, 110.0, 113.0, 270.0, 178.0, 240.0, 154.0, 144.0, 307.0, 268.0,\n",
       "       59.0, 204.0, 312.0, 318.0, 94.0, 274.0, 174.0, 195.0, 223.0, 317.0,\n",
       "       281.0, 118.0, 53.0, 286.0, 12.0, 47.0, 324.0, 342.0, 373.0, 371.0,\n",
       "       86.0, 82.0, 218.0, 88.0, 31.0, 397.0, 392.0, 405.0, 331.0, 367.0,\n",
       "       20.0, 83.0, 416.0, 51.0, 395.0, 102.0, 34.0, 84.0, 360.0, 394.0,\n",
       "       457.0, 382.0, 461.0, 478.0, 112.0, 486.0, 421.0, 9.0, 308.0, 135.0,\n",
       "       224.0, 504.0, 269.0, 356.0, 498.0, 390.0, 513.0, 203.0, 263.0,\n",
       "       477.0, 521.0, 169.0, 515.0, 445.0, 337.0, 251.0, 428.0, 292.0,\n",
       "       388.0, 130.0, 250.0, 355.0, 254.0, 543.0, 531.0, 528.0, 62.0,\n",
       "       120.0, 42.0, 81.0, 116.0, 530.0, 103.0, 39.0, 16.0, 92.0, 61.0,\n",
       "       501.0, 165.0, 291.0, 290.0, 43.0, 325.0, 192.0, 108.0, 200.0,\n",
       "       465.0, 287.0, 297.0, 490.0, 482.0, 207.0, 282.0, 437.0, 225.0,\n",
       "       329.0, 272.0, 28.0, 77.0, 338.0, 72.0, 246.0, 319.0, 146.0, 159.0,\n",
       "       380.0, 323.0, 511.0, 407.0, 278.0, 80.0, 403.0, 399.0, 14.0, 137.0,\n",
       "       343.0, 346.0, 347.0, 349.0, 289.0, 351.0, 353.0, 54.0, 99.0, 358.0,\n",
       "       361.0, 362.0, 366.0, 372.0, 365.0, 277.0, 109.0, 377.0, 379.0,\n",
       "       22.0, 378.0, 330.0, 364.0, 401.0, 232.0, 255.0, 384.0, 167.0,\n",
       "       212.0, 514.0, 391.0, 400.0, 376.0, 402.0, 396.0, 302.0, 398.0, 6.0,\n",
       "       370.0, 369.0, 409.0, 168.0, 104.0, 408.0, 413.0, 148.0, 10.0,\n",
       "       333.0, 419.0, 415.0, 424.0, 425.0, 423.0, 422.0, 435.0, 439.0,\n",
       "       442.0, 448.0, 443.0, 454.0, 444.0, 52.0, 459.0, 458.0, 456.0,\n",
       "       460.0, 447.0, 470.0, 466.0, 484.0, 184.0, 485.0, 32.0, 487.0,\n",
       "       491.0, 494.0, 193.0, 516.0, 496.0, 499.0, 29.0, 78.0, 520.0, 507.0,\n",
       "       506.0, 512.0, 126.0, 64.0, 242.0, 518.0, 523.0, 539.0, 534.0,\n",
       "       436.0, 525.0, 541.0, 40.0, 455.0, 410.0, 45.0, 38.0, 49.0, 48.0,\n",
       "       67.0, 68.0, 65.0, 91.0, 37.0, 8.0, 179.0, 209.0, 219.0, 221.0,\n",
       "       227.0, 153.0, 186.0, 253.0, 202.0, 216.0, 275.0, 233.0, 280.0,\n",
       "       309.0, 321.0, 93.0, 316.0, 85.0, 107.0, 350.0, 334.0, 348.0, 150.0,\n",
       "       73.0, 385.0, 418.0, 197.0, 450.0, 452.0, 115.0, 46.0, 76.0, 96.0,\n",
       "       100.0, 105.0, 101.0, 122.0, 11.0, 139.0, 142.0, 127.0, 143.0,\n",
       "       140.0, 149.0, 163.0, 160.0, 180.0, 238.0, 183.0, 222.0, 185.0,\n",
       "       217.0, 215.0, 213.0, 237.0, 230.0, 234.0, 35.0, 245.0, 158.0,\n",
       "       258.0, 259.0, 260.0, 411.0, 257.0, 271.0, 18.0, 106.0, 210.0,\n",
       "       273.0, 71.0, 284.0, 301.0, 305.0, 293.0, 264.0, 311.0, 304.0,\n",
       "       313.0, 320.0, 332.0, 341.0, 352.0, 243.0, 383.0, 368.0, 393.0,\n",
       "       132.0, 220.0, 412.0, 420.0, 426.0, 417.0, 429.0, 433.0, 446.0,\n",
       "       357.0, 479.0, 483.0, 489.0, 229.0, 481.0, 497.0, 451.0, 492.0],\n",
       "      dtype=object)"
      ]
     },
     "execution_count": 21,
     "metadata": {},
     "output_type": "execute_result"
    }
   ],
   "source": [
    "df['company'].unique()"
   ]
  },
  {
   "cell_type": "code",
   "execution_count": 22,
   "id": "087b87c1",
   "metadata": {
    "colab": {
     "base_uri": "https://localhost:8080/"
    },
    "id": "087b87c1",
    "outputId": "07040a7c-1e4e-4819-8a38-449e36b53d88"
   },
   "outputs": [
    {
     "data": {
      "text/plain": [
       "array([nan, 304.0, 240.0, 303.0, 15.0, 241.0, 8.0, 250.0, 115.0, 5.0,\n",
       "       175.0, 134.0, 156.0, 243.0, 242.0, 3.0, 105.0, 40.0, 147.0, 306.0,\n",
       "       184.0, 96.0, 2.0, 127.0, 95.0, 146.0, 9.0, 177.0, 6.0, 143.0,\n",
       "       244.0, 149.0, 167.0, 300.0, 171.0, 305.0, 67.0, 196.0, 152.0,\n",
       "       142.0, 261.0, 104.0, 36.0, 26.0, 29.0, 258.0, 110.0, 71.0, 181.0,\n",
       "       88.0, 251.0, 275.0, 69.0, 248.0, 208.0, 256.0, 314.0, 126.0, 281.0,\n",
       "       273.0, 253.0, 185.0, 330.0, 334.0, 328.0, 326.0, 321.0, 324.0,\n",
       "       313.0, 38.0, 155.0, 68.0, 335.0, 308.0, 332.0, 94.0, 348.0, 310.0,\n",
       "       339.0, 375.0, 66.0, 327.0, 387.0, 298.0, 91.0, 245.0, 385.0, 257.0,\n",
       "       393.0, 168.0, 405.0, 249.0, 315.0, 75.0, 128.0, 307.0, 11.0, 436.0,\n",
       "       1.0, 201.0, 183.0, 223.0, 368.0, 336.0, 291.0, 464.0, 411.0, 481.0,\n",
       "       10.0, 154.0, 468.0, 410.0, 390.0, 440.0, 495.0, 492.0, 493.0,\n",
       "       434.0, 57.0, 531.0, 420.0, 483.0, 526.0, 472.0, 429.0, 16.0, 446.0,\n",
       "       34.0, 78.0, 139.0, 252.0, 270.0, 47.0, 114.0, 301.0, 193.0, 182.0,\n",
       "       135.0, 350.0, 195.0, 352.0, 355.0, 159.0, 363.0, 384.0, 360.0,\n",
       "       331.0, 367.0, 64.0, 406.0, 163.0, 414.0, 333.0, 427.0, 431.0,\n",
       "       430.0, 426.0, 438.0, 433.0, 418.0, 441.0, 282.0, 432.0, 72.0,\n",
       "       450.0, 180.0, 454.0, 455.0, 59.0, 451.0, 254.0, 358.0, 469.0,\n",
       "       165.0, 467.0, 510.0, 337.0, 476.0, 502.0, 527.0, 479.0, 508.0,\n",
       "       535.0, 302.0, 497.0, 187.0, 13.0, 7.0, 27.0, 14.0, 22.0, 17.0,\n",
       "       28.0, 42.0, 20.0, 19.0, 45.0, 37.0, 61.0, 39.0, 21.0, 24.0, 41.0,\n",
       "       50.0, 30.0, 54.0, 52.0, 12.0, 44.0, 31.0, 83.0, 32.0, 63.0, 60.0,\n",
       "       55.0, 56.0, 89.0, 87.0, 118.0, 86.0, 85.0, 210.0, 214.0, 129.0,\n",
       "       179.0, 138.0, 174.0, 170.0, 153.0, 93.0, 151.0, 119.0, 35.0, 173.0,\n",
       "       58.0, 53.0, 133.0, 79.0, 235.0, 192.0, 191.0, 236.0, 162.0, 215.0,\n",
       "       157.0, 287.0, 132.0, 234.0, 98.0, 77.0, 103.0, 107.0, 262.0, 220.0,\n",
       "       121.0, 205.0, 378.0, 23.0, 296.0, 290.0, 229.0, 33.0, 286.0, 276.0,\n",
       "       425.0, 484.0, 323.0, 403.0, 219.0, 394.0, 509.0, 111.0, 423.0, 4.0,\n",
       "       70.0, 82.0, 81.0, 74.0, 92.0, 99.0, 90.0, 112.0, 117.0, 106.0,\n",
       "       148.0, 158.0, 144.0, 211.0, 213.0, 216.0, 232.0, 150.0, 267.0,\n",
       "       227.0, 247.0, 278.0, 280.0, 285.0, 289.0, 269.0, 295.0, 265.0,\n",
       "       288.0, 122.0, 294.0, 325.0, 341.0, 344.0, 346.0, 359.0, 283.0,\n",
       "       364.0, 370.0, 371.0, 25.0, 141.0, 391.0, 397.0, 416.0, 404.0,\n",
       "       299.0, 197.0, 73.0, 354.0, 444.0, 408.0, 461.0, 388.0, 453.0,\n",
       "       459.0, 474.0, 475.0, 480.0, 449.0], dtype=object)"
      ]
     },
     "execution_count": 22,
     "metadata": {},
     "output_type": "execute_result"
    }
   ],
   "source": [
    "df['agent'].unique()"
   ]
  },
  {
   "cell_type": "code",
   "execution_count": 23,
   "id": "3a5aa3bf",
   "metadata": {
    "colab": {
     "base_uri": "https://localhost:8080/"
    },
    "id": "3a5aa3bf",
    "outputId": "8c2984fe-0a86-49d5-e34c-6a0dcf69ae30",
    "scrolled": true
   },
   "outputs": [
    {
     "data": {
      "text/plain": [
       "array([ 0.,  1.,  2., 10.,  3.])"
      ]
     },
     "execution_count": 23,
     "metadata": {},
     "output_type": "execute_result"
    }
   ],
   "source": [
    "df['children'].unique()"
   ]
  },
  {
   "cell_type": "code",
   "execution_count": 24,
   "id": "da0e8136",
   "metadata": {
    "colab": {
     "base_uri": "https://localhost:8080/"
    },
    "id": "da0e8136",
    "outputId": "eddab20a-c573-46f8-da63-1659f21b0c10"
   },
   "outputs": [
    {
     "name": "stdout",
     "output_type": "stream",
     "text": [
      "177\n",
      "0    Kota Denpasar\n",
      "Name: city, dtype: object\n"
     ]
    },
    {
     "data": {
      "text/plain": [
       "array(['Kota Denpasar', 'Kabupaten Bangka', 'Kabupaten Sleman',\n",
       "       'Kota Batu', 'Kota Malang', 'Kota Yogyakarta', nan,\n",
       "       'Kabupaten Tangerang', 'Kota Semarang', 'Kota Serang',\n",
       "       'Kota Tangerang', 'Kota Bogor', 'Kabupaten Bandung',\n",
       "       'Kabupaten Magelang', 'Kabupaten Sumedang', 'Kota Jakarta Timur',\n",
       "       'Kabupaten Purwakarta', 'Kabupaten Kepulauan Seribu',\n",
       "       'Kabupaten Belitung', 'Kota Jakarta Pusat', 'Kota Jakarta Selatan',\n",
       "       'Kota Surabaya', 'Kota Jakarta Utara', 'Kota Gorontalo',\n",
       "       'Kota Jambi', 'Kota Jakarta Barat', 'Kota Bengkulu',\n",
       "       'Kabupaten Bandung Barat', 'Kabupaten Bekasi', 'Kabupaten Bogor',\n",
       "       'Kabupaten Ciamis', 'Kabupaten Cianjur', 'Kabupaten Cirebon',\n",
       "       'Kota Cimahi', 'Kabupaten Indramayu', 'Kabupaten Karawang',\n",
       "       'Kabupaten Kuningan', 'Kabupaten Majalengka', 'Kabupaten Serang',\n",
       "       'Kota Pangkal Pinang', 'Kabupaten Subang', 'Kabupaten Sukabumi',\n",
       "       'Kabupaten Garut', 'Kabupaten Tasikmalaya', 'Kota Bandung',\n",
       "       'Kota Banjar', 'Kota Bekasi', 'Kabupaten Pandeglang',\n",
       "       'Kabupaten Pangandaran', 'Kota Cirebon', 'Kota Depok',\n",
       "       'Kota Sukabumi', 'Kota Tasikmalaya', 'Kabupaten Banjarnegara',\n",
       "       'Kabupaten Banyumas', 'Kabupaten Batang', 'Kabupaten Blora',\n",
       "       'Kabupaten Boyolali', 'Kabupaten Brebes', 'Kabupaten Cilacap',\n",
       "       'Kabupaten Demak', 'Kabupaten Grobogan', 'Kabupaten Jepara',\n",
       "       'Kabupaten Karanganyar', 'Kabupaten Kebumen', 'Kabupaten Kendal',\n",
       "       'Kabupaten Klaten', 'Kabupaten Kudus', 'Kota Kediri',\n",
       "       'Kabupaten Pati', 'Kabupaten Pekalongan', 'Kabupaten Pemalang',\n",
       "       'Kabupaten Purbalingga', 'Kabupaten Purworejo',\n",
       "       'Kabupaten Rembang', 'Kabupaten Semarang', 'Kabupaten Sragen',\n",
       "       'Kabupaten Sukoharjo', 'Kabupaten Tegal', 'Kabupaten Temanggung',\n",
       "       'Kabupaten Wonogiri', 'Kabupaten Wonosobo', 'Kota Magelang',\n",
       "       'Kota Pekalongan', 'Kota Salatiga', 'Kabupaten Bantul',\n",
       "       'Kota Surakarta', 'Kota Tegal', 'Kabupaten Bangkalan',\n",
       "       'Kabupaten Banyuwangi', 'Kabupaten Blitar', 'Kabupaten Bojonegoro',\n",
       "       'Kabupaten Bondowoso', 'Kabupaten Gresik', 'Kabupaten Jember',\n",
       "       'Kabupaten Jombang', 'Kabupaten Kediri', 'Kabupaten Lamongan',\n",
       "       'Kabupaten Lumajang', 'Kabupaten Madiun', 'Kabupaten Magetan',\n",
       "       'Kabupaten Kerinci', 'Kabupaten Mojokerto', 'Kabupaten Nganjuk',\n",
       "       'Kabupaten Ngawi', 'Kabupaten Pacitan', 'Kabupaten Pamekasan',\n",
       "       'Kabupaten Pasuruan', 'Kabupaten Ponorogo',\n",
       "       'Kabupaten Probolinggo', 'Kabupaten Sampang', 'Kabupaten Sidoarjo',\n",
       "       'Kabupaten Situbondo', 'Kabupaten Sumenep', 'Kabupaten Trenggalek',\n",
       "       'Kabupaten Tuban', 'Kabupaten Tulungagung',\n",
       "       'Kabupaten Gunung Kidul', 'Kota Blitar', 'Kota Tangerang Selatan',\n",
       "       'Kota Madiun', 'Kota Cilegon', 'Kota Mojokerto', 'Kota Pasuruan',\n",
       "       'Kota Probolinggo', 'Kabupaten Malang', 'Kabupaten Kapuas Hulu',\n",
       "       'Kabupaten Ketapang', 'Kota Pontianak', 'Kabupaten Banjar',\n",
       "       'Kabupaten Barito Kuala', 'Kota Banjarbaru', 'Kota Banjarmasin',\n",
       "       'Kabupaten Kapuas', 'Kabupaten Katingan',\n",
       "       'Kabupaten Kotawaringin Barat', 'Kabupaten Kotawaringin Timur',\n",
       "       'Kabupaten Musi Banyuasin', 'Kabupaten Murung Raya',\n",
       "       'Kota Palembang', 'Kabupaten Seruyan', 'Kabupaten Sukamara',\n",
       "       'Kota Palangka Raya', 'Kota Balikpapan', 'Kota Bontang',\n",
       "       'Kota Samarinda', 'Kabupaten Berau', 'Kabupaten Kutai Barat',\n",
       "       'Kota Tarakan', 'Kota Batam', 'Kabupaten Pesisir Barat',\n",
       "       'Kabupaten Pringsewu', 'Kota Bandar Lampung', 'Kota Lampung Timur',\n",
       "       'Kota Ambon', 'Kabupaten Kepulauan Aru',\n",
       "       'Kabupaten Maluku Barat Daya', 'Kabupaten Maluku Tengah',\n",
       "       'Kabupaten Maluku Tenggara', 'Kabupaten Maluku Tenggara Barat',\n",
       "       'Kabupaten Halmahera Selatan', 'Kota Ternate',\n",
       "       'Kota Tidore Kepulauan', 'Kabupaten Aceh Jaya', 'Kota Banda Aceh',\n",
       "       'Kota Lhokseumawe', 'Kota Sabang', 'Kabupaten Lombok Barat',\n",
       "       'Kabupaten Sumbawa', 'Kota Mataram', 'Kabupaten Flores Timur',\n",
       "       'Kabupaten Timor Tengah Selatan', 'Kota Jayapura',\n",
       "       'Kota Bukittinggi', 'Kota Padang', 'Kabupaten Nias', 'Kota Binjai',\n",
       "       'Medan'], dtype=object)"
      ]
     },
     "execution_count": 24,
     "metadata": {},
     "output_type": "execute_result"
    }
   ],
   "source": [
    "print(df['city'].nunique())\n",
    "print(df['city'].mode())\n",
    "df['city'].unique()"
   ]
  },
  {
   "cell_type": "markdown",
   "id": "854e007b",
   "metadata": {
    "id": "854e007b"
   },
   "source": [
    "### Handling Missing Value \n",
    "\n",
    "- Kolom Company akan didrop karena missing value > 90%\n",
    "- Missing Value pada kolom Agent akan direplace dengan \"Other Agent\"\n",
    "- Missing Value pada kolom Children akan direplace/diisi dengan 0 yang berarti number of children=0\n",
    "- Missing Value pada kolom City akan diisi dengan \"Other City\""
   ]
  },
  {
   "cell_type": "code",
   "execution_count": 25,
   "id": "b683a3f2",
   "metadata": {
    "id": "b683a3f2"
   },
   "outputs": [],
   "source": [
    "#run kodingan ini sekali\n",
    "#handling company columns\n",
    "df = df.drop('company', axis =1)"
   ]
  },
  {
   "cell_type": "code",
   "execution_count": 26,
   "id": "4324512f",
   "metadata": {
    "colab": {
     "base_uri": "https://localhost:8080/"
    },
    "id": "4324512f",
    "outputId": "e43e821f-f19f-4e64-e458-6451f8aee914"
   },
   "outputs": [
    {
     "data": {
      "text/plain": [
       "hotel                             0\n",
       "is_canceled                       0\n",
       "lead_time                         0\n",
       "arrival_date_year                 0\n",
       "arrival_date_month                0\n",
       "arrival_date_week_number          0\n",
       "arrival_date_day_of_month         0\n",
       "stays_in_weekend_nights           0\n",
       "stays_in_weekdays_nights          0\n",
       "adults                            0\n",
       "children                          0\n",
       "babies                            0\n",
       "meal                              0\n",
       "city                              0\n",
       "market_segment                    0\n",
       "distribution_channel              0\n",
       "is_repeated_guest                 0\n",
       "previous_cancellations            0\n",
       "previous_bookings_not_canceled    0\n",
       "booking_changes                   0\n",
       "deposit_type                      0\n",
       "agent                             0\n",
       "days_in_waiting_list              0\n",
       "customer_type                     0\n",
       "adr                               0\n",
       "required_car_parking_spaces       0\n",
       "total_of_special_requests         0\n",
       "reservation_status                0\n",
       "total_of_guest                    0\n",
       "dtype: int64"
      ]
     },
     "execution_count": 26,
     "metadata": {},
     "output_type": "execute_result"
    }
   ],
   "source": [
    "#handling agent\n",
    "df['agent'].fillna('Other Agent', inplace = True)\n",
    "\n",
    "#handling Children\n",
    "df['children'].fillna(value = 0, inplace = True)\n",
    "\n",
    "#handling city \n",
    "df['city'].fillna('Other Agent', inplace = True)\n",
    "\n",
    "df.isnull().sum()"
   ]
  },
  {
   "cell_type": "markdown",
   "id": "ceaf5bad",
   "metadata": {
    "id": "ceaf5bad"
   },
   "source": [
    "## Cek Duplikat Data "
   ]
  },
  {
   "cell_type": "code",
   "execution_count": 27,
   "id": "8b9dcacd",
   "metadata": {
    "colab": {
     "base_uri": "https://localhost:8080/"
    },
    "id": "8b9dcacd",
    "outputId": "349c5832-1be9-41f3-9a32-bfac01aa341b",
    "scrolled": true
   },
   "outputs": [
    {
     "data": {
      "text/plain": [
       "33257"
      ]
     },
     "execution_count": 27,
     "metadata": {},
     "output_type": "execute_result"
    }
   ],
   "source": [
    "df.duplicated().sum()"
   ]
  },
  {
   "cell_type": "markdown",
   "id": "b365bbb1",
   "metadata": {
    "id": "b365bbb1"
   },
   "source": [
    "- Ada 33257 baris data yang duplikat, oleh karena itu akan dihapus dari dataset"
   ]
  },
  {
   "cell_type": "markdown",
   "id": "d58c54fc",
   "metadata": {
    "id": "d58c54fc"
   },
   "source": [
    "### Handling Duplicat data "
   ]
  },
  {
   "cell_type": "code",
   "execution_count": 28,
   "id": "adf4b0d7",
   "metadata": {
    "colab": {
     "base_uri": "https://localhost:8080/"
    },
    "id": "adf4b0d7",
    "outputId": "661ad33f-2c86-438b-d9af-3dc63cb6e207"
   },
   "outputs": [
    {
     "data": {
      "text/plain": [
       "0"
      ]
     },
     "execution_count": 28,
     "metadata": {},
     "output_type": "execute_result"
    }
   ],
   "source": [
    "df = df.drop_duplicates()\n",
    "df.duplicated().sum()"
   ]
  },
  {
   "cell_type": "code",
   "execution_count": 29,
   "id": "5ae74e7b",
   "metadata": {
    "colab": {
     "base_uri": "https://localhost:8080/"
    },
    "id": "5ae74e7b",
    "outputId": "6332b8a0-5d5b-4dc4-c615-4a1f012674ad"
   },
   "outputs": [
    {
     "data": {
      "text/plain": [
       "(85945, 29)"
      ]
     },
     "execution_count": 29,
     "metadata": {},
     "output_type": "execute_result"
    }
   ],
   "source": [
    "df.shape"
   ]
  },
  {
   "cell_type": "markdown",
   "id": "QuifRFPDRX1X",
   "metadata": {
    "id": "QuifRFPDRX1X"
   },
   "source": [
    "# **Data Visualization**"
   ]
  },
  {
   "cell_type": "markdown",
   "id": "U4--iK1R57TN",
   "metadata": {
    "id": "U4--iK1R57TN"
   },
   "source": [
    "## **Task 2**"
   ]
  },
  {
   "cell_type": "markdown",
   "id": "YA_1HLdYRhXp",
   "metadata": {
    "id": "YA_1HLdYRhXp"
   },
   "source": [
    "#### Perbandingan jumlah pemesanan hotel setiap bulannya berdasarkan jenis hotel"
   ]
  },
  {
   "cell_type": "code",
   "execution_count": 30,
   "id": "hbh9OwM5jTUX",
   "metadata": {
    "colab": {
     "base_uri": "https://localhost:8080/",
     "height": 896
    },
    "id": "hbh9OwM5jTUX",
    "outputId": "413be72e-051e-42ae-dbc6-e4addf507c87"
   },
   "outputs": [
    {
     "data": {
      "text/html": [
       "<div>\n",
       "<style scoped>\n",
       "    .dataframe tbody tr th:only-of-type {\n",
       "        vertical-align: middle;\n",
       "    }\n",
       "\n",
       "    .dataframe tbody tr th {\n",
       "        vertical-align: top;\n",
       "    }\n",
       "\n",
       "    .dataframe thead th {\n",
       "        text-align: right;\n",
       "    }\n",
       "</style>\n",
       "<table border=\"1\" class=\"dataframe\">\n",
       "  <thead>\n",
       "    <tr style=\"text-align: right;\">\n",
       "      <th></th>\n",
       "      <th>hotel</th>\n",
       "      <th>City Hotel</th>\n",
       "      <th>Resort Hotel</th>\n",
       "    </tr>\n",
       "    <tr>\n",
       "      <th>arrival_date_year</th>\n",
       "      <th>arrival_date_month</th>\n",
       "      <th></th>\n",
       "      <th></th>\n",
       "    </tr>\n",
       "  </thead>\n",
       "  <tbody>\n",
       "    <tr>\n",
       "      <th rowspan=\"6\" valign=\"top\">2017</th>\n",
       "      <th>January</th>\n",
       "      <td>761</td>\n",
       "      <td>844</td>\n",
       "    </tr>\n",
       "    <tr>\n",
       "      <th>February</th>\n",
       "      <td>996</td>\n",
       "      <td>947</td>\n",
       "    </tr>\n",
       "    <tr>\n",
       "      <th>September</th>\n",
       "      <td>373</td>\n",
       "      <td>1275</td>\n",
       "    </tr>\n",
       "    <tr>\n",
       "      <th>October</th>\n",
       "      <td>1050</td>\n",
       "      <td>1344</td>\n",
       "    </tr>\n",
       "    <tr>\n",
       "      <th>November</th>\n",
       "      <td>1539</td>\n",
       "      <td>1135</td>\n",
       "    </tr>\n",
       "    <tr>\n",
       "      <th>December</th>\n",
       "      <td>1453</td>\n",
       "      <td>1109</td>\n",
       "    </tr>\n",
       "    <tr>\n",
       "      <th rowspan=\"12\" valign=\"top\">2018</th>\n",
       "      <th>January</th>\n",
       "      <td>2114</td>\n",
       "      <td>1179</td>\n",
       "    </tr>\n",
       "    <tr>\n",
       "      <th>February</th>\n",
       "      <td>1969</td>\n",
       "      <td>1147</td>\n",
       "    </tr>\n",
       "    <tr>\n",
       "      <th>March</th>\n",
       "      <td>1013</td>\n",
       "      <td>815</td>\n",
       "    </tr>\n",
       "    <tr>\n",
       "      <th>April</th>\n",
       "      <td>1625</td>\n",
       "      <td>1134</td>\n",
       "    </tr>\n",
       "    <tr>\n",
       "      <th>May</th>\n",
       "      <td>2351</td>\n",
       "      <td>1442</td>\n",
       "    </tr>\n",
       "    <tr>\n",
       "      <th>June</th>\n",
       "      <td>2384</td>\n",
       "      <td>1331</td>\n",
       "    </tr>\n",
       "    <tr>\n",
       "      <th>July</th>\n",
       "      <td>2299</td>\n",
       "      <td>1403</td>\n",
       "    </tr>\n",
       "    <tr>\n",
       "      <th>August</th>\n",
       "      <td>2221</td>\n",
       "      <td>1218</td>\n",
       "    </tr>\n",
       "    <tr>\n",
       "      <th>September</th>\n",
       "      <td>2458</td>\n",
       "      <td>1358</td>\n",
       "    </tr>\n",
       "    <tr>\n",
       "      <th>October</th>\n",
       "      <td>2782</td>\n",
       "      <td>1598</td>\n",
       "    </tr>\n",
       "    <tr>\n",
       "      <th>November</th>\n",
       "      <td>2515</td>\n",
       "      <td>1259</td>\n",
       "    </tr>\n",
       "    <tr>\n",
       "      <th>December</th>\n",
       "      <td>2595</td>\n",
       "      <td>1549</td>\n",
       "    </tr>\n",
       "    <tr>\n",
       "      <th rowspan=\"8\" valign=\"top\">2019</th>\n",
       "      <th>March</th>\n",
       "      <td>1679</td>\n",
       "      <td>1117</td>\n",
       "    </tr>\n",
       "    <tr>\n",
       "      <th>April</th>\n",
       "      <td>1921</td>\n",
       "      <td>1339</td>\n",
       "    </tr>\n",
       "    <tr>\n",
       "      <th>May</th>\n",
       "      <td>2447</td>\n",
       "      <td>1170</td>\n",
       "    </tr>\n",
       "    <tr>\n",
       "      <th>June</th>\n",
       "      <td>2643</td>\n",
       "      <td>1445</td>\n",
       "    </tr>\n",
       "    <tr>\n",
       "      <th>July</th>\n",
       "      <td>3034</td>\n",
       "      <td>1494</td>\n",
       "    </tr>\n",
       "    <tr>\n",
       "      <th>August</th>\n",
       "      <td>2697</td>\n",
       "      <td>1511</td>\n",
       "    </tr>\n",
       "    <tr>\n",
       "      <th>September</th>\n",
       "      <td>2842</td>\n",
       "      <td>1664</td>\n",
       "    </tr>\n",
       "    <tr>\n",
       "      <th>October</th>\n",
       "      <td>2652</td>\n",
       "      <td>1705</td>\n",
       "    </tr>\n",
       "  </tbody>\n",
       "</table>\n",
       "</div>"
      ],
      "text/plain": [
       "hotel                                 City Hotel  Resort Hotel\n",
       "arrival_date_year arrival_date_month                          \n",
       "2017              January                    761           844\n",
       "                  February                   996           947\n",
       "                  September                  373          1275\n",
       "                  October                   1050          1344\n",
       "                  November                  1539          1135\n",
       "                  December                  1453          1109\n",
       "2018              January                   2114          1179\n",
       "                  February                  1969          1147\n",
       "                  March                     1013           815\n",
       "                  April                     1625          1134\n",
       "                  May                       2351          1442\n",
       "                  June                      2384          1331\n",
       "                  July                      2299          1403\n",
       "                  August                    2221          1218\n",
       "                  September                 2458          1358\n",
       "                  October                   2782          1598\n",
       "                  November                  2515          1259\n",
       "                  December                  2595          1549\n",
       "2019              March                     1679          1117\n",
       "                  April                     1921          1339\n",
       "                  May                       2447          1170\n",
       "                  June                      2643          1445\n",
       "                  July                      3034          1494\n",
       "                  August                    2697          1511\n",
       "                  September                 2842          1664\n",
       "                  October                   2652          1705"
      ]
     },
     "execution_count": 30,
     "metadata": {},
     "output_type": "execute_result"
    }
   ],
   "source": [
    "df_hotel_agr = df.groupby(['arrival_date_year','arrival_date_month','hotel'])['customer_type'].count().reset_index()\n",
    "months = ['January','February','March','April','May','June','July','August','September','October','November','December']\n",
    "df_hotel_agr['arrival_date_month'] = pd.Categorical(df_hotel_agr['arrival_date_month'], categories=months, ordered=True)\n",
    "df_hotel_agr = df_hotel_agr.pivot_table(index=['arrival_date_year','arrival_date_month'], columns = 'hotel', values = 'customer_type')\n",
    "df_hotel_agr"
   ]
  },
  {
   "cell_type": "markdown",
   "id": "s1h_ncWSkXql",
   "metadata": {
    "id": "s1h_ncWSkXql"
   },
   "source": [
    "#### Normalisasi data dan mengurutkan data berdasarkan bulan"
   ]
  },
  {
   "cell_type": "markdown",
   "id": "-C_ryPbwk2Vt",
   "metadata": {
    "id": "-C_ryPbwk2Vt"
   },
   "source": [
    "- Melakukan normalisasi data karena hanya bulan September dan Oktober yang setiap tahunnya ada dalam 3 tahun terakhir, sehingga akan dibuat rata-rata perbulan "
   ]
  },
  {
   "cell_type": "code",
   "execution_count": 31,
   "id": "jomy50rRhRdh",
   "metadata": {
    "colab": {
     "base_uri": "https://localhost:8080/",
     "height": 206
    },
    "id": "jomy50rRhRdh",
    "outputId": "47eb79c6-7d7c-4cd2-885c-fec9b2247b66"
   },
   "outputs": [
    {
     "data": {
      "text/html": [
       "<div>\n",
       "<style scoped>\n",
       "    .dataframe tbody tr th:only-of-type {\n",
       "        vertical-align: middle;\n",
       "    }\n",
       "\n",
       "    .dataframe tbody tr th {\n",
       "        vertical-align: top;\n",
       "    }\n",
       "\n",
       "    .dataframe thead th {\n",
       "        text-align: right;\n",
       "    }\n",
       "</style>\n",
       "<table border=\"1\" class=\"dataframe\">\n",
       "  <thead>\n",
       "    <tr style=\"text-align: right;\">\n",
       "      <th></th>\n",
       "      <th>year</th>\n",
       "      <th>month</th>\n",
       "      <th>hotel</th>\n",
       "      <th>count</th>\n",
       "    </tr>\n",
       "  </thead>\n",
       "  <tbody>\n",
       "    <tr>\n",
       "      <th>0</th>\n",
       "      <td>2017</td>\n",
       "      <td>December</td>\n",
       "      <td>City Hotel</td>\n",
       "      <td>1453</td>\n",
       "    </tr>\n",
       "    <tr>\n",
       "      <th>1</th>\n",
       "      <td>2017</td>\n",
       "      <td>December</td>\n",
       "      <td>Resort Hotel</td>\n",
       "      <td>1109</td>\n",
       "    </tr>\n",
       "    <tr>\n",
       "      <th>2</th>\n",
       "      <td>2017</td>\n",
       "      <td>February</td>\n",
       "      <td>City Hotel</td>\n",
       "      <td>996</td>\n",
       "    </tr>\n",
       "    <tr>\n",
       "      <th>3</th>\n",
       "      <td>2017</td>\n",
       "      <td>February</td>\n",
       "      <td>Resort Hotel</td>\n",
       "      <td>947</td>\n",
       "    </tr>\n",
       "    <tr>\n",
       "      <th>4</th>\n",
       "      <td>2017</td>\n",
       "      <td>January</td>\n",
       "      <td>City Hotel</td>\n",
       "      <td>761</td>\n",
       "    </tr>\n",
       "  </tbody>\n",
       "</table>\n",
       "</div>"
      ],
      "text/plain": [
       "   year     month         hotel  count\n",
       "0  2017  December    City Hotel   1453\n",
       "1  2017  December  Resort Hotel   1109\n",
       "2  2017  February    City Hotel    996\n",
       "3  2017  February  Resort Hotel    947\n",
       "4  2017   January    City Hotel    761"
      ]
     },
     "execution_count": 31,
     "metadata": {},
     "output_type": "execute_result"
    }
   ],
   "source": [
    "df_hotel = df.groupby(['arrival_date_year','arrival_date_month','hotel']).agg({'arrival_date_year':['count']}).reset_index()\n",
    "df_hotel.columns = ['year', 'month', 'hotel','count']\n",
    "df_hotel.head()"
   ]
  },
  {
   "cell_type": "code",
   "execution_count": 32,
   "id": "GnxtroYSp7SV",
   "metadata": {
    "id": "GnxtroYSp7SV"
   },
   "outputs": [],
   "source": [
    "df_hotel_new = df_hotel[['month', 'hotel','count']]\n",
    "df_hotel_new = df_hotel_new.groupby(['month','hotel']).agg({'count':'mean'}).reset_index()"
   ]
  },
  {
   "cell_type": "code",
   "execution_count": 33,
   "id": "Zd3KX7rithdk",
   "metadata": {
    "id": "Zd3KX7rithdk"
   },
   "outputs": [],
   "source": [
    "months = ['January','February','March','April','May','June','July','August','September','October','November','December']\n",
    "df_hotel_new['month'] = pd.Categorical(df_hotel_new['month'], categories=months, ordered=True)"
   ]
  },
  {
   "cell_type": "code",
   "execution_count": 34,
   "id": "4MdbxtyHt6Rv",
   "metadata": {
    "colab": {
     "base_uri": "https://localhost:8080/",
     "height": 206
    },
    "id": "4MdbxtyHt6Rv",
    "outputId": "9a74b95e-4ff3-4708-a7cb-cfc8a3b524b6"
   },
   "outputs": [
    {
     "data": {
      "text/html": [
       "<div>\n",
       "<style scoped>\n",
       "    .dataframe tbody tr th:only-of-type {\n",
       "        vertical-align: middle;\n",
       "    }\n",
       "\n",
       "    .dataframe tbody tr th {\n",
       "        vertical-align: top;\n",
       "    }\n",
       "\n",
       "    .dataframe thead th {\n",
       "        text-align: right;\n",
       "    }\n",
       "</style>\n",
       "<table border=\"1\" class=\"dataframe\">\n",
       "  <thead>\n",
       "    <tr style=\"text-align: right;\">\n",
       "      <th></th>\n",
       "      <th>month</th>\n",
       "      <th>hotel</th>\n",
       "      <th>average_of_booking</th>\n",
       "    </tr>\n",
       "  </thead>\n",
       "  <tbody>\n",
       "    <tr>\n",
       "      <th>8</th>\n",
       "      <td>January</td>\n",
       "      <td>City Hotel</td>\n",
       "      <td>1437.5</td>\n",
       "    </tr>\n",
       "    <tr>\n",
       "      <th>9</th>\n",
       "      <td>January</td>\n",
       "      <td>Resort Hotel</td>\n",
       "      <td>1011.5</td>\n",
       "    </tr>\n",
       "    <tr>\n",
       "      <th>6</th>\n",
       "      <td>February</td>\n",
       "      <td>City Hotel</td>\n",
       "      <td>1482.5</td>\n",
       "    </tr>\n",
       "    <tr>\n",
       "      <th>7</th>\n",
       "      <td>February</td>\n",
       "      <td>Resort Hotel</td>\n",
       "      <td>1047.0</td>\n",
       "    </tr>\n",
       "    <tr>\n",
       "      <th>15</th>\n",
       "      <td>March</td>\n",
       "      <td>Resort Hotel</td>\n",
       "      <td>966.0</td>\n",
       "    </tr>\n",
       "  </tbody>\n",
       "</table>\n",
       "</div>"
      ],
      "text/plain": [
       "       month         hotel  average_of_booking\n",
       "8    January    City Hotel              1437.5\n",
       "9    January  Resort Hotel              1011.5\n",
       "6   February    City Hotel              1482.5\n",
       "7   February  Resort Hotel              1047.0\n",
       "15     March  Resort Hotel               966.0"
      ]
     },
     "execution_count": 34,
     "metadata": {},
     "output_type": "execute_result"
    }
   ],
   "source": [
    "df_hotel_new = df_hotel_new.sort_values(by='month', ascending=True)\n",
    "df_hotel_new.columns = ['month', 'hotel', 'average_of_booking']\n",
    "df_hotel_new.head()"
   ]
  },
  {
   "cell_type": "code",
   "execution_count": 51,
   "id": "mAjme69yuRNI",
   "metadata": {
    "colab": {
     "base_uri": "https://localhost:8080/",
     "height": 600
    },
    "id": "mAjme69yuRNI",
    "outputId": "82fc1e5c-c145-4ed1-c6ec-f3cb31823f74"
   },
   "outputs": [
    {
     "data": {
      "image/png": "[encoded data removed]",
      "text/plain": [
       "<Figure size 1440x576 with 1 Axes>"
      ]
     },
     "metadata": {},
     "output_type": "display_data"
    }
   ],
   "source": [
    "import datetime\n",
    "fig, ax = plt.subplots(1, 1, figsize=(20, 8))\n",
    "sns.lineplot(x=df_hotel_new['month'], y=df_hotel_new['average_of_booking'], hue = df_hotel_new['hotel'], linewidth=5.0)\n",
    "plt.axvline('March', color='red', linestyle='--')\n",
    "plt.axvline('July', color='red', linestyle='--')\n",
    "plt.text(x=-0.5,y=2900,s=\"Average Bookings for Every Month Both of Type Hotel\",fontsize=25,weight='bold')\n",
    "plt.text(x=-0.5,y=2790,s=\"Overall both type of hotels have the same average pattern \",fontsize=14)\n",
    "ax.plot('July', 2672, 'o', mew=3, ms=30, mec='g', mfc='none', alpha=.7)\n",
    "ax.plot('October', 1549, 'o', mew=3, ms=30, mec='g', mfc='none', alpha=.7)\n",
    "plt.text(x=6.05,y=1750,s='End of the Holiday Season',fontsize=12)\n",
    "plt.xticks(rotation = 80)\n",
    "ax.set_xlabel('Month',fontsize = 15, weight='bold')\n",
    "ax.set_ylabel('Average of Booking',fontsize = 15, weight='bold')\n",
    "sns.set_style(\"dark\")\n",
    "# sns.set_style(\"whitegrid\", {\"grid.color\": \".6\", \"grid.linestyle\": \":\"})\n",
    "plt.show()"
   ]
  },
  {
   "cell_type": "markdown",
   "id": "ZLeGwMvlcntd",
   "metadata": {
    "id": "ZLeGwMvlcntd"
   },
   "source": [
    "- Pada bulan Maret hingga Juli, rata-rata booking dari kedua jenis hotel terus mengalami kenaikan karena pada bulan-bulan tersebut menjelang musim liburan (libur sekolah dan lebaran). Namun setelah bulan Juli mengalami penurunan, yaitu tipe 'City Hotel' mengalami penurunan hingga bulan September dan tipe 'Resort Hotel' mengalami penurunan hingga bulan Agustus. Hal ini dikarenakan musim liburan telah usai.\n",
    "- Rata-rata booking tertinggi tipe 'City Hotel' terjadi pada bulan Juli, sedangkan pada tipe 'Resort Hotel' terjadi pada bulan October."
   ]
  },
  {
   "cell_type": "markdown",
   "id": "vJ1Ke4WcZzdF",
   "metadata": {
    "id": "vJ1Ke4WcZzdF"
   },
   "source": [
    "## **Task 3**"
   ]
  },
  {
   "cell_type": "markdown",
   "id": "rI7dmLCEZ64V",
   "metadata": {
    "id": "rI7dmLCEZ64V"
   },
   "source": [
    "**Impact Analysis of Stay Duration on Hotel Bookings Cancellation Rates**"
   ]
  },
  {
   "cell_type": "code",
   "execution_count": 36,
   "id": "IVg6IWLZsvB6",
   "metadata": {
    "colab": {
     "base_uri": "https://localhost:8080/",
     "height": 206
    },
    "id": "IVg6IWLZsvB6",
    "outputId": "bd1161f9-11f3-425c-8444-e3c6c6d4ea47"
   },
   "outputs": [
    {
     "data": {
      "text/html": [
       "<div>\n",
       "<style scoped>\n",
       "    .dataframe tbody tr th:only-of-type {\n",
       "        vertical-align: middle;\n",
       "    }\n",
       "\n",
       "    .dataframe tbody tr th {\n",
       "        vertical-align: top;\n",
       "    }\n",
       "\n",
       "    .dataframe thead th {\n",
       "        text-align: right;\n",
       "    }\n",
       "</style>\n",
       "<table border=\"1\" class=\"dataframe\">\n",
       "  <thead>\n",
       "    <tr style=\"text-align: right;\">\n",
       "      <th></th>\n",
       "      <th>hotel</th>\n",
       "      <th>stays_in_weekend_nights</th>\n",
       "      <th>stays_in_weekdays_nights</th>\n",
       "      <th>total_stay</th>\n",
       "      <th>is_canceled_new</th>\n",
       "    </tr>\n",
       "  </thead>\n",
       "  <tbody>\n",
       "    <tr>\n",
       "      <th>0</th>\n",
       "      <td>Resort Hotel</td>\n",
       "      <td>0</td>\n",
       "      <td>0</td>\n",
       "      <td>0</td>\n",
       "      <td>No</td>\n",
       "    </tr>\n",
       "    <tr>\n",
       "      <th>1</th>\n",
       "      <td>Resort Hotel</td>\n",
       "      <td>0</td>\n",
       "      <td>0</td>\n",
       "      <td>0</td>\n",
       "      <td>No</td>\n",
       "    </tr>\n",
       "    <tr>\n",
       "      <th>2</th>\n",
       "      <td>Resort Hotel</td>\n",
       "      <td>0</td>\n",
       "      <td>1</td>\n",
       "      <td>1</td>\n",
       "      <td>No</td>\n",
       "    </tr>\n",
       "    <tr>\n",
       "      <th>3</th>\n",
       "      <td>Resort Hotel</td>\n",
       "      <td>0</td>\n",
       "      <td>1</td>\n",
       "      <td>1</td>\n",
       "      <td>No</td>\n",
       "    </tr>\n",
       "    <tr>\n",
       "      <th>4</th>\n",
       "      <td>Resort Hotel</td>\n",
       "      <td>0</td>\n",
       "      <td>2</td>\n",
       "      <td>2</td>\n",
       "      <td>No</td>\n",
       "    </tr>\n",
       "  </tbody>\n",
       "</table>\n",
       "</div>"
      ],
      "text/plain": [
       "          hotel  stays_in_weekend_nights  stays_in_weekdays_nights  \\\n",
       "0  Resort Hotel                        0                         0   \n",
       "1  Resort Hotel                        0                         0   \n",
       "2  Resort Hotel                        0                         1   \n",
       "3  Resort Hotel                        0                         1   \n",
       "4  Resort Hotel                        0                         2   \n",
       "\n",
       "   total_stay is_canceled_new  \n",
       "0           0              No  \n",
       "1           0              No  \n",
       "2           1              No  \n",
       "3           1              No  \n",
       "4           2              No  "
      ]
     },
     "execution_count": 36,
     "metadata": {},
     "output_type": "execute_result"
    }
   ],
   "source": [
    "df_stay = df[['hotel','is_canceled','stays_in_weekend_nights','stays_in_weekdays_nights']]\n",
    "df_stay['total_stay'] = df_stay['stays_in_weekend_nights'] + df_stay['stays_in_weekdays_nights']\n",
    "df_stay['is_canceled_new'] = np.where(df_stay['is_canceled'] == 0, 'No', 'Yes')\n",
    "df_stay = df_stay.drop('is_canceled', axis=1)\n",
    "\n",
    "df_stay.head()"
   ]
  },
  {
   "cell_type": "code",
   "execution_count": 37,
   "id": "hW-or6fAczvl",
   "metadata": {
    "colab": {
     "base_uri": "https://localhost:8080/",
     "height": 532
    },
    "id": "hW-or6fAczvl",
    "outputId": "43f490b0-83fe-4c35-bb53-eddd0d42eb46"
   },
   "outputs": [
    {
     "data": {
      "image/png": "[encoded data removed]",
      "text/plain": [
       "<Figure size 1440x576 with 1 Axes>"
      ]
     },
     "metadata": {},
     "output_type": "display_data"
    }
   ],
   "source": [
    "plt.figure(figsize = (20,8))\n",
    "fte_graph = sns.boxplot(x='total_stay', y='is_canceled_new', hue = 'hotel', data=df_stay)\n",
    "plt.text(x=-3,y=-0.55,s=\"Distribution of Booking Canceled between Hotel Type and Total Stay\",fontsize=25,weight='bold')\n",
    "plt.xlabel('Duration of Stay',fontsize = 15, weight='bold')\n",
    "plt.ylabel('is canceled',fontsize = 15, weight='bold')\n",
    "plt.legend(title='Hotel Type')\n",
    "plt.show()"
   ]
  },
  {
   "cell_type": "markdown",
   "id": "uNhSv-g1jyy1",
   "metadata": {
    "id": "uNhSv-g1jyy1"
   },
   "source": [
    "- Berdasarkan boxplot tersebut, untuk duration of stay yang nilainya > 31 hari akan diganti 32 hari atau '>31'"
   ]
  },
  {
   "cell_type": "code",
   "execution_count": 38,
   "id": "dL_iejOqSJM-",
   "metadata": {
    "colab": {
     "base_uri": "https://localhost:8080/"
    },
    "id": "dL_iejOqSJM-",
    "outputId": "235dfa17-8a45-4f92-ed82-45acb697a09c"
   },
   "outputs": [
    {
     "data": {
      "text/plain": [
       "dos           0\n",
       "city_no       6\n",
       "city_yes      0\n",
       "resort_no     4\n",
       "resort_yes    2\n",
       "dos_new       0\n",
       "dtype: int64"
      ]
     },
     "execution_count": 38,
     "metadata": {},
     "output_type": "execute_result"
    }
   ],
   "source": [
    "df_stay = df[['hotel','is_canceled','stays_in_weekend_nights','stays_in_weekdays_nights']]\n",
    "df_stay['total_stay'] = df_stay['stays_in_weekend_nights'] + df_stay['stays_in_weekdays_nights']\n",
    "df_stay['is_canceled_new'] = np.where(df_stay['is_canceled'] == 0, 'No', 'Yes')\n",
    "df_stay = df_stay.drop('is_canceled', axis=1)\n",
    "df_baru1 = df_stay[['hotel','total_stay','is_canceled_new']]\n",
    "df_baru1['dos'] = np.where(df_stay['total_stay']>31,32, df_stay['total_stay'])\n",
    "\n",
    "\n",
    "df_baru1= df_baru1.groupby(['hotel','is_canceled_new','dos']).agg({'hotel':['count']}).reset_index()\n",
    "df_baru1.columns = ['hotel','is_canceled_new','dos','count']\n",
    "df_baru1\n",
    "df_pivot = df_baru1.pivot_table(index=['dos'], columns = ['hotel','is_canceled_new'], values = 'count').reset_index()\n",
    "df_pivot.columns=['dos','city_no','city_yes','resort_no','resort_yes']\n",
    "df_pivot = df_pivot.sort_values(by ='dos', ascending=True)\n",
    "df_pivot['dos_new'] = np.where(df_pivot['dos']==32,'>31',df_pivot['dos'])\n",
    "df_pivot.isnull().sum()"
   ]
  },
  {
   "cell_type": "code",
   "execution_count": 39,
   "id": "7mLaFgypIAcx",
   "metadata": {
    "colab": {
     "base_uri": "https://localhost:8080/",
     "height": 363
    },
    "id": "7mLaFgypIAcx",
    "outputId": "46bd01e0-6a9a-446b-9534-715c046a98f8"
   },
   "outputs": [
    {
     "data": {
      "text/html": [
       "<div>\n",
       "<style scoped>\n",
       "    .dataframe tbody tr th:only-of-type {\n",
       "        vertical-align: middle;\n",
       "    }\n",
       "\n",
       "    .dataframe tbody tr th {\n",
       "        vertical-align: top;\n",
       "    }\n",
       "\n",
       "    .dataframe thead th {\n",
       "        text-align: right;\n",
       "    }\n",
       "</style>\n",
       "<table border=\"1\" class=\"dataframe\">\n",
       "  <thead>\n",
       "    <tr style=\"text-align: right;\">\n",
       "      <th></th>\n",
       "      <th>dos</th>\n",
       "      <th>city_no</th>\n",
       "      <th>city_yes</th>\n",
       "      <th>resort_no</th>\n",
       "      <th>resort_yes</th>\n",
       "      <th>dos_new</th>\n",
       "    </tr>\n",
       "  </thead>\n",
       "  <tbody>\n",
       "    <tr>\n",
       "      <th>22</th>\n",
       "      <td>22</td>\n",
       "      <td>2.0</td>\n",
       "      <td>4.0</td>\n",
       "      <td>6.0</td>\n",
       "      <td>NaN</td>\n",
       "      <td>22</td>\n",
       "    </tr>\n",
       "    <tr>\n",
       "      <th>23</th>\n",
       "      <td>23</td>\n",
       "      <td>1.0</td>\n",
       "      <td>1.0</td>\n",
       "      <td>1.0</td>\n",
       "      <td>2.0</td>\n",
       "      <td>23</td>\n",
       "    </tr>\n",
       "    <tr>\n",
       "      <th>24</th>\n",
       "      <td>24</td>\n",
       "      <td>1.0</td>\n",
       "      <td>5.0</td>\n",
       "      <td>NaN</td>\n",
       "      <td>NaN</td>\n",
       "      <td>24</td>\n",
       "    </tr>\n",
       "    <tr>\n",
       "      <th>25</th>\n",
       "      <td>25</td>\n",
       "      <td>NaN</td>\n",
       "      <td>2.0</td>\n",
       "      <td>7.0</td>\n",
       "      <td>5.0</td>\n",
       "      <td>25</td>\n",
       "    </tr>\n",
       "    <tr>\n",
       "      <th>26</th>\n",
       "      <td>26</td>\n",
       "      <td>NaN</td>\n",
       "      <td>3.0</td>\n",
       "      <td>NaN</td>\n",
       "      <td>3.0</td>\n",
       "      <td>26</td>\n",
       "    </tr>\n",
       "    <tr>\n",
       "      <th>27</th>\n",
       "      <td>27</td>\n",
       "      <td>NaN</td>\n",
       "      <td>3.0</td>\n",
       "      <td>NaN</td>\n",
       "      <td>1.0</td>\n",
       "      <td>27</td>\n",
       "    </tr>\n",
       "    <tr>\n",
       "      <th>28</th>\n",
       "      <td>28</td>\n",
       "      <td>NaN</td>\n",
       "      <td>3.0</td>\n",
       "      <td>22.0</td>\n",
       "      <td>9.0</td>\n",
       "      <td>28</td>\n",
       "    </tr>\n",
       "    <tr>\n",
       "      <th>29</th>\n",
       "      <td>29</td>\n",
       "      <td>NaN</td>\n",
       "      <td>10.0</td>\n",
       "      <td>2.0</td>\n",
       "      <td>1.0</td>\n",
       "      <td>29</td>\n",
       "    </tr>\n",
       "    <tr>\n",
       "      <th>30</th>\n",
       "      <td>30</td>\n",
       "      <td>NaN</td>\n",
       "      <td>7.0</td>\n",
       "      <td>2.0</td>\n",
       "      <td>2.0</td>\n",
       "      <td>30</td>\n",
       "    </tr>\n",
       "    <tr>\n",
       "      <th>31</th>\n",
       "      <td>32</td>\n",
       "      <td>2.0</td>\n",
       "      <td>1.0</td>\n",
       "      <td>14.0</td>\n",
       "      <td>3.0</td>\n",
       "      <td>&gt;31</td>\n",
       "    </tr>\n",
       "  </tbody>\n",
       "</table>\n",
       "</div>"
      ],
      "text/plain": [
       "    dos  city_no  city_yes  resort_no  resort_yes dos_new\n",
       "22   22      2.0       4.0        6.0         NaN      22\n",
       "23   23      1.0       1.0        1.0         2.0      23\n",
       "24   24      1.0       5.0        NaN         NaN      24\n",
       "25   25      NaN       2.0        7.0         5.0      25\n",
       "26   26      NaN       3.0        NaN         3.0      26\n",
       "27   27      NaN       3.0        NaN         1.0      27\n",
       "28   28      NaN       3.0       22.0         9.0      28\n",
       "29   29      NaN      10.0        2.0         1.0      29\n",
       "30   30      NaN       7.0        2.0         2.0      30\n",
       "31   32      2.0       1.0       14.0         3.0     >31"
      ]
     },
     "execution_count": 39,
     "metadata": {},
     "output_type": "execute_result"
    }
   ],
   "source": [
    "df_pivot.tail(10)"
   ]
  },
  {
   "cell_type": "code",
   "execution_count": 40,
   "id": "fR5uqBUGm2Xh",
   "metadata": {
    "colab": {
     "base_uri": "https://localhost:8080/",
     "height": 206
    },
    "id": "fR5uqBUGm2Xh",
    "outputId": "390dea35-cb39-4814-f392-e9d272003a0f"
   },
   "outputs": [
    {
     "data": {
      "text/html": [
       "<div>\n",
       "<style scoped>\n",
       "    .dataframe tbody tr th:only-of-type {\n",
       "        vertical-align: middle;\n",
       "    }\n",
       "\n",
       "    .dataframe tbody tr th {\n",
       "        vertical-align: top;\n",
       "    }\n",
       "\n",
       "    .dataframe thead th {\n",
       "        text-align: right;\n",
       "    }\n",
       "</style>\n",
       "<table border=\"1\" class=\"dataframe\">\n",
       "  <thead>\n",
       "    <tr style=\"text-align: right;\">\n",
       "      <th></th>\n",
       "      <th>dos</th>\n",
       "      <th>city_no</th>\n",
       "      <th>city_yes</th>\n",
       "      <th>resort_no</th>\n",
       "      <th>resort_yes</th>\n",
       "      <th>dos_new</th>\n",
       "      <th>percentage_cancel_ch</th>\n",
       "      <th>percentage_cancel_rh</th>\n",
       "    </tr>\n",
       "  </thead>\n",
       "  <tbody>\n",
       "    <tr>\n",
       "      <th>0</th>\n",
       "      <td>0</td>\n",
       "      <td>218.0</td>\n",
       "      <td>13.0</td>\n",
       "      <td>345.0</td>\n",
       "      <td>10.0</td>\n",
       "      <td>0</td>\n",
       "      <td>5.627706</td>\n",
       "      <td>2.816901</td>\n",
       "    </tr>\n",
       "    <tr>\n",
       "      <th>1</th>\n",
       "      <td>1</td>\n",
       "      <td>7838.0</td>\n",
       "      <td>2258.0</td>\n",
       "      <td>5947.0</td>\n",
       "      <td>852.0</td>\n",
       "      <td>1</td>\n",
       "      <td>22.365293</td>\n",
       "      <td>12.531255</td>\n",
       "    </tr>\n",
       "    <tr>\n",
       "      <th>2</th>\n",
       "      <td>2</td>\n",
       "      <td>7374.0</td>\n",
       "      <td>3131.0</td>\n",
       "      <td>3829.0</td>\n",
       "      <td>996.0</td>\n",
       "      <td>2</td>\n",
       "      <td>29.804855</td>\n",
       "      <td>20.642487</td>\n",
       "    </tr>\n",
       "    <tr>\n",
       "      <th>3</th>\n",
       "      <td>3</td>\n",
       "      <td>9135.0</td>\n",
       "      <td>4182.0</td>\n",
       "      <td>3127.0</td>\n",
       "      <td>1082.0</td>\n",
       "      <td>3</td>\n",
       "      <td>31.403469</td>\n",
       "      <td>25.706819</td>\n",
       "    </tr>\n",
       "    <tr>\n",
       "      <th>4</th>\n",
       "      <td>4</td>\n",
       "      <td>6440.0</td>\n",
       "      <td>3059.0</td>\n",
       "      <td>2839.0</td>\n",
       "      <td>1044.0</td>\n",
       "      <td>4</td>\n",
       "      <td>32.203390</td>\n",
       "      <td>26.886428</td>\n",
       "    </tr>\n",
       "  </tbody>\n",
       "</table>\n",
       "</div>"
      ],
      "text/plain": [
       "   dos  city_no  city_yes  resort_no  resort_yes dos_new  \\\n",
       "0    0    218.0      13.0      345.0        10.0       0   \n",
       "1    1   7838.0    2258.0     5947.0       852.0       1   \n",
       "2    2   7374.0    3131.0     3829.0       996.0       2   \n",
       "3    3   9135.0    4182.0     3127.0      1082.0       3   \n",
       "4    4   6440.0    3059.0     2839.0      1044.0       4   \n",
       "\n",
       "   percentage_cancel_ch  percentage_cancel_rh  \n",
       "0              5.627706              2.816901  \n",
       "1             22.365293             12.531255  \n",
       "2             29.804855             20.642487  \n",
       "3             31.403469             25.706819  \n",
       "4             32.203390             26.886428  "
      ]
     },
     "execution_count": 40,
     "metadata": {},
     "output_type": "execute_result"
    }
   ],
   "source": [
    "df_pivot['city_no'].fillna(value = 0, inplace = True)\n",
    "df_pivot['resort_no'].fillna(value = 0, inplace = True)\n",
    "df_pivot['resort_yes'].fillna(value = 0, inplace = True)\n",
    "df_pivot['percentage_cancel_ch'] = df_pivot['city_yes']/(df_pivot['city_no']+df_pivot['city_yes'])*100\n",
    "df_pivot['percentage_cancel_rh'] = df_pivot['resort_yes']/(df_pivot['resort_no']+df_pivot['resort_yes'])*100\n",
    "df_pivot.head()"
   ]
  },
  {
   "cell_type": "markdown",
   "id": "PjCvISERxILE",
   "metadata": {
    "id": "PjCvISERxILE"
   },
   "source": [
    "**Plot rasio pembatalan pesanan terhadap durasi menginap untuk setiap tipe hotel**"
   ]
  },
  {
   "cell_type": "code",
   "execution_count": 41,
   "id": "0JABus-kbkOx",
   "metadata": {
    "colab": {
     "base_uri": "https://localhost:8080/",
     "height": 590
    },
    "id": "0JABus-kbkOx",
    "outputId": "76a86dc1-8753-468d-d4ab-a0d8f3ca8f41"
   },
   "outputs": [
    {
     "data": {
      "image/png": "[encoded data removed]",
      "text/plain": [
       "<Figure size 2160x720 with 1 Axes>"
      ]
     },
     "metadata": {},
     "output_type": "display_data"
    }
   ],
   "source": [
    "fig, ax = plt.subplots(1, 1, figsize=(30, 10))\n",
    "sns.regplot(x=df_pivot['dos'], y=df_pivot['percentage_cancel_rh'],ci=None,scatter= False,label='Resort Hotel')\n",
    "sns.scatterplot(x=df_pivot['dos_new'], y=df_pivot['percentage_cancel_rh'],s=150)\n",
    "sns.regplot(x=df_pivot['dos'], y=df_pivot['percentage_cancel_ch'],ci=None,scatter= False,label='City Hotel')\n",
    "sns.scatterplot(x=df_pivot['dos_new'], y=df_pivot['percentage_cancel_ch'],s=150)\n",
    "plt.text(x=-1,y=107,s=\"Impact Analysis of Stay Duration on Hotel Bookings Cancellation Rates\",fontsize=25,weight='bold')\n",
    "plt.xlabel(\"Duration of Stay in days\", fontsize = 20, weight='bold')\n",
    "plt.ylabel(\"Percentage Cancel in %\", fontsize = 20, weight='bold')\n",
    "plt.legend(title='Hotel Type')\n",
    "plt.xlim(-1,32.5)\n",
    "plt.show()"
   ]
  },
  {
   "cell_type": "markdown",
   "id": "mc0kj8V5vgUu",
   "metadata": {
    "id": "mc0kj8V5vgUu"
   },
   "source": [
    "- Semakin lama durasi menginap semakin besar juga persentase pembatalannya baik tipe ‘City Hotel’ maupun ‘Resort Hotel’\n",
    "- Berdasarkan grafik tersebut, secara keseluruhan pembatalan booking berdasarkan durasi menginap pada tipe ‘City Hotel’ persentasenya lebih tinggi dibandingkan dengan ‘Resort Hotel’\n"
   ]
  },
  {
   "cell_type": "markdown",
   "id": "la3KUQPByuPR",
   "metadata": {
    "id": "la3KUQPByuPR"
   },
   "source": [
    "## **Task 4**"
   ]
  },
  {
   "cell_type": "markdown",
   "id": "5JxvbWSJFK3v",
   "metadata": {
    "id": "5JxvbWSJFK3v"
   },
   "source": [
    "**Impact Analysis of Lead Time on Hotel Bookings Cancellation Rate**"
   ]
  },
  {
   "cell_type": "code",
   "execution_count": 42,
   "id": "DY_r3uh-ywzw",
   "metadata": {
    "colab": {
     "base_uri": "https://localhost:8080/",
     "height": 206
    },
    "id": "DY_r3uh-ywzw",
    "outputId": "16ec64ea-1773-473a-c707-cdca88236454"
   },
   "outputs": [
    {
     "data": {
      "text/html": [
       "<div>\n",
       "<style scoped>\n",
       "    .dataframe tbody tr th:only-of-type {\n",
       "        vertical-align: middle;\n",
       "    }\n",
       "\n",
       "    .dataframe tbody tr th {\n",
       "        vertical-align: top;\n",
       "    }\n",
       "\n",
       "    .dataframe thead th {\n",
       "        text-align: right;\n",
       "    }\n",
       "</style>\n",
       "<table border=\"1\" class=\"dataframe\">\n",
       "  <thead>\n",
       "    <tr style=\"text-align: right;\">\n",
       "      <th></th>\n",
       "      <th>hotel</th>\n",
       "      <th>lead_time</th>\n",
       "      <th>is_canceled_new</th>\n",
       "    </tr>\n",
       "  </thead>\n",
       "  <tbody>\n",
       "    <tr>\n",
       "      <th>0</th>\n",
       "      <td>Resort Hotel</td>\n",
       "      <td>342</td>\n",
       "      <td>No</td>\n",
       "    </tr>\n",
       "    <tr>\n",
       "      <th>1</th>\n",
       "      <td>Resort Hotel</td>\n",
       "      <td>737</td>\n",
       "      <td>No</td>\n",
       "    </tr>\n",
       "    <tr>\n",
       "      <th>2</th>\n",
       "      <td>Resort Hotel</td>\n",
       "      <td>7</td>\n",
       "      <td>No</td>\n",
       "    </tr>\n",
       "    <tr>\n",
       "      <th>3</th>\n",
       "      <td>Resort Hotel</td>\n",
       "      <td>13</td>\n",
       "      <td>No</td>\n",
       "    </tr>\n",
       "    <tr>\n",
       "      <th>4</th>\n",
       "      <td>Resort Hotel</td>\n",
       "      <td>14</td>\n",
       "      <td>No</td>\n",
       "    </tr>\n",
       "  </tbody>\n",
       "</table>\n",
       "</div>"
      ],
      "text/plain": [
       "          hotel  lead_time is_canceled_new\n",
       "0  Resort Hotel        342              No\n",
       "1  Resort Hotel        737              No\n",
       "2  Resort Hotel          7              No\n",
       "3  Resort Hotel         13              No\n",
       "4  Resort Hotel         14              No"
      ]
     },
     "execution_count": 42,
     "metadata": {},
     "output_type": "execute_result"
    }
   ],
   "source": [
    "df_lead = df[['hotel','is_canceled','lead_time']]\n",
    "df_lead['is_canceled_new'] = np.where(df_lead['is_canceled'] == 0, 'No', 'Yes')\n",
    "df_lead = df_lead.drop('is_canceled', axis=1)\n",
    "df_lead.head()"
   ]
  },
  {
   "cell_type": "code",
   "execution_count": 43,
   "id": "0UhnfTN1yv6u",
   "metadata": {
    "id": "0UhnfTN1yv6u"
   },
   "outputs": [],
   "source": [
    "bin = []\n",
    "\n",
    "for i in range(-1,26):\n",
    "    bin1 = i*30\n",
    "    bin.append(bin1)\n",
    "bin\n",
    "df_lead['bin_lead'] = pd.cut(df_lead['lead_time'], bin)"
   ]
  },
  {
   "cell_type": "code",
   "execution_count": 44,
   "id": "A7VLadvnz6l-",
   "metadata": {
    "colab": {
     "base_uri": "https://localhost:8080/",
     "height": 206
    },
    "id": "A7VLadvnz6l-",
    "outputId": "e85de4c0-e8e4-4315-a217-c12560a16d5f"
   },
   "outputs": [
    {
     "data": {
      "text/html": [
       "<div>\n",
       "<style scoped>\n",
       "    .dataframe tbody tr th:only-of-type {\n",
       "        vertical-align: middle;\n",
       "    }\n",
       "\n",
       "    .dataframe tbody tr th {\n",
       "        vertical-align: top;\n",
       "    }\n",
       "\n",
       "    .dataframe thead th {\n",
       "        text-align: right;\n",
       "    }\n",
       "</style>\n",
       "<table border=\"1\" class=\"dataframe\">\n",
       "  <thead>\n",
       "    <tr style=\"text-align: right;\">\n",
       "      <th></th>\n",
       "      <th>bin_lead</th>\n",
       "      <th>city_no</th>\n",
       "      <th>city_yes</th>\n",
       "      <th>resort_no</th>\n",
       "      <th>resort_yes</th>\n",
       "      <th>% Resort Hotel</th>\n",
       "      <th>% City Hotel</th>\n",
       "    </tr>\n",
       "  </thead>\n",
       "  <tbody>\n",
       "    <tr>\n",
       "      <th>0</th>\n",
       "      <td>(-30, 0]</td>\n",
       "      <td>2598</td>\n",
       "      <td>210</td>\n",
       "      <td>2910</td>\n",
       "      <td>131</td>\n",
       "      <td>4.307793</td>\n",
       "      <td>7.478632</td>\n",
       "    </tr>\n",
       "    <tr>\n",
       "      <th>1</th>\n",
       "      <td>(0, 30]</td>\n",
       "      <td>13603</td>\n",
       "      <td>3722</td>\n",
       "      <td>9491</td>\n",
       "      <td>1566</td>\n",
       "      <td>14.162974</td>\n",
       "      <td>21.483405</td>\n",
       "    </tr>\n",
       "    <tr>\n",
       "      <th>2</th>\n",
       "      <td>(30, 60]</td>\n",
       "      <td>5833</td>\n",
       "      <td>2885</td>\n",
       "      <td>3133</td>\n",
       "      <td>1292</td>\n",
       "      <td>29.197740</td>\n",
       "      <td>33.092452</td>\n",
       "    </tr>\n",
       "    <tr>\n",
       "      <th>3</th>\n",
       "      <td>(60, 90]</td>\n",
       "      <td>4078</td>\n",
       "      <td>2090</td>\n",
       "      <td>2129</td>\n",
       "      <td>929</td>\n",
       "      <td>30.379333</td>\n",
       "      <td>33.884565</td>\n",
       "    </tr>\n",
       "    <tr>\n",
       "      <th>4</th>\n",
       "      <td>(90, 120]</td>\n",
       "      <td>3032</td>\n",
       "      <td>1684</td>\n",
       "      <td>1594</td>\n",
       "      <td>798</td>\n",
       "      <td>33.361204</td>\n",
       "      <td>35.708227</td>\n",
       "    </tr>\n",
       "  </tbody>\n",
       "</table>\n",
       "</div>"
      ],
      "text/plain": [
       "    bin_lead  city_no  city_yes  resort_no  resort_yes  % Resort Hotel  \\\n",
       "0   (-30, 0]     2598       210       2910         131        4.307793   \n",
       "1    (0, 30]    13603      3722       9491        1566       14.162974   \n",
       "2   (30, 60]     5833      2885       3133        1292       29.197740   \n",
       "3   (60, 90]     4078      2090       2129         929       30.379333   \n",
       "4  (90, 120]     3032      1684       1594         798       33.361204   \n",
       "\n",
       "   % City Hotel  \n",
       "0      7.478632  \n",
       "1     21.483405  \n",
       "2     33.092452  \n",
       "3     33.884565  \n",
       "4     35.708227  "
      ]
     },
     "execution_count": 44,
     "metadata": {},
     "output_type": "execute_result"
    }
   ],
   "source": [
    "df_lead= df_lead.groupby(['hotel','is_canceled_new','bin_lead']).agg({'hotel':['count']}).reset_index()\n",
    "df_lead.columns = ['hotel','is_canceled_new','bin_lead','count']\n",
    "\n",
    "df_pivot_lead = df_lead.pivot_table(index=['bin_lead'], columns = ['hotel','is_canceled_new'], values = 'count').reset_index()\n",
    "df_pivot_lead.columns=['bin_lead','city_no','city_yes','resort_no','resort_yes']\n",
    "df_pivot_lead = df_pivot_lead.sort_values(by ='bin_lead', ascending=True)\n",
    "df_pivot_lead['% Resort Hotel'] = df_pivot_lead['resort_yes']/(df_pivot_lead['resort_no']+df_pivot_lead['resort_yes'])*100 #percentage cancel of Resort Hotel\n",
    "df_pivot_lead['% City Hotel'] = df_pivot_lead['city_yes']/(df_pivot_lead['city_no']+df_pivot_lead['city_yes'])*100 #percentage cancel of City Hotel\n",
    "df_pivot_lead.head()"
   ]
  },
  {
   "cell_type": "code",
   "execution_count": 45,
   "id": "HszRSIZmE3Y4",
   "metadata": {
    "colab": {
     "base_uri": "https://localhost:8080/",
     "height": 143
    },
    "id": "HszRSIZmE3Y4",
    "outputId": "2005e116-fcf5-439e-902c-2163f4c6fe05"
   },
   "outputs": [
    {
     "data": {
      "text/html": [
       "<div>\n",
       "<style scoped>\n",
       "    .dataframe tbody tr th:only-of-type {\n",
       "        vertical-align: middle;\n",
       "    }\n",
       "\n",
       "    .dataframe tbody tr th {\n",
       "        vertical-align: top;\n",
       "    }\n",
       "\n",
       "    .dataframe thead th {\n",
       "        text-align: right;\n",
       "    }\n",
       "</style>\n",
       "<table border=\"1\" class=\"dataframe\">\n",
       "  <thead>\n",
       "    <tr style=\"text-align: right;\">\n",
       "      <th></th>\n",
       "      <th>bin_lead</th>\n",
       "      <th>city_no</th>\n",
       "      <th>city_yes</th>\n",
       "      <th>resort_no</th>\n",
       "      <th>resort_yes</th>\n",
       "      <th>% Resort Hotel</th>\n",
       "      <th>% City Hotel</th>\n",
       "      <th>lead_bin_cat</th>\n",
       "    </tr>\n",
       "  </thead>\n",
       "  <tbody>\n",
       "    <tr>\n",
       "      <th>0</th>\n",
       "      <td>(-30, 0]</td>\n",
       "      <td>2598</td>\n",
       "      <td>210</td>\n",
       "      <td>2910</td>\n",
       "      <td>131</td>\n",
       "      <td>4.307793</td>\n",
       "      <td>7.478632</td>\n",
       "      <td>0</td>\n",
       "    </tr>\n",
       "    <tr>\n",
       "      <th>1</th>\n",
       "      <td>(0, 30]</td>\n",
       "      <td>13603</td>\n",
       "      <td>3722</td>\n",
       "      <td>9491</td>\n",
       "      <td>1566</td>\n",
       "      <td>14.162974</td>\n",
       "      <td>21.483405</td>\n",
       "      <td>1</td>\n",
       "    </tr>\n",
       "    <tr>\n",
       "      <th>2</th>\n",
       "      <td>(30, 60]</td>\n",
       "      <td>5833</td>\n",
       "      <td>2885</td>\n",
       "      <td>3133</td>\n",
       "      <td>1292</td>\n",
       "      <td>29.197740</td>\n",
       "      <td>33.092452</td>\n",
       "      <td>2</td>\n",
       "    </tr>\n",
       "  </tbody>\n",
       "</table>\n",
       "</div>"
      ],
      "text/plain": [
       "   bin_lead  city_no  city_yes  resort_no  resort_yes  % Resort Hotel  \\\n",
       "0  (-30, 0]     2598       210       2910         131        4.307793   \n",
       "1   (0, 30]    13603      3722       9491        1566       14.162974   \n",
       "2  (30, 60]     5833      2885       3133        1292       29.197740   \n",
       "\n",
       "   % City Hotel  lead_bin_cat  \n",
       "0      7.478632             0  \n",
       "1     21.483405             1  \n",
       "2     33.092452             2  "
      ]
     },
     "execution_count": 45,
     "metadata": {},
     "output_type": "execute_result"
    }
   ],
   "source": [
    "from sklearn import preprocessing\n",
    "le = preprocessing.LabelEncoder()\n",
    "df_pivot_lead['lead_bin_cat'] = le.fit_transform(df_pivot_lead['bin_lead'])\n",
    "df_pivot_lead.head(3)"
   ]
  },
  {
   "cell_type": "code",
   "execution_count": 46,
   "id": "03RAbwtWyuxs",
   "metadata": {
    "id": "03RAbwtWyuxs"
   },
   "outputs": [],
   "source": [
    "import datetime\n",
    "list_segment = []\n",
    "for i, y in df_pivot_lead.iterrows():\n",
    "    list = (df_pivot_lead['lead_bin_cat'][i])*30\n",
    "    list2 =  list - 30\n",
    "    list3 = list2.astype(str) + ' < ' + 'D' + ' ≤ ' + list.astype(str)\n",
    "    list_segment.append(list3)\n",
    "list_segment    \n",
    "df_pivot_lead['interval_lead_time'] = list_segment\n",
    "df_pivot_lead['interval'] = np.where(df_pivot_lead['interval_lead_time']=='-30 < D ≤ 0', 'D = 0', df_pivot_lead['interval_lead_time'])\n",
    "df_pivot_lead = df_pivot_lead.drop(['bin_lead','interval_lead_time'], axis=1)"
   ]
  },
  {
   "cell_type": "code",
   "execution_count": 47,
   "id": "U4kWPe80Ggbi",
   "metadata": {
    "id": "U4kWPe80Ggbi"
   },
   "outputs": [],
   "source": [
    "df_pivot_lead.columns = ['city_no', 'city_yes', 'resort_no', 'resort_yes', 'Resort Hotel',\n",
    "       'City Hotel', 'lead_bin_cat', 'interval']"
   ]
  },
  {
   "cell_type": "code",
   "execution_count": 48,
   "id": "4ih4W0gkLPUU",
   "metadata": {
    "colab": {
     "base_uri": "https://localhost:8080/",
     "height": 206
    },
    "id": "4ih4W0gkLPUU",
    "outputId": "2155d981-00f6-45c5-e0cf-7ce40562a5b2"
   },
   "outputs": [
    {
     "data": {
      "text/html": [
       "<div>\n",
       "<style scoped>\n",
       "    .dataframe tbody tr th:only-of-type {\n",
       "        vertical-align: middle;\n",
       "    }\n",
       "\n",
       "    .dataframe tbody tr th {\n",
       "        vertical-align: top;\n",
       "    }\n",
       "\n",
       "    .dataframe thead th {\n",
       "        text-align: right;\n",
       "    }\n",
       "</style>\n",
       "<table border=\"1\" class=\"dataframe\">\n",
       "  <thead>\n",
       "    <tr style=\"text-align: right;\">\n",
       "      <th></th>\n",
       "      <th>city_no</th>\n",
       "      <th>city_yes</th>\n",
       "      <th>resort_no</th>\n",
       "      <th>resort_yes</th>\n",
       "      <th>Resort Hotel</th>\n",
       "      <th>City Hotel</th>\n",
       "      <th>lead_bin_cat</th>\n",
       "      <th>interval</th>\n",
       "    </tr>\n",
       "  </thead>\n",
       "  <tbody>\n",
       "    <tr>\n",
       "      <th>0</th>\n",
       "      <td>2598</td>\n",
       "      <td>210</td>\n",
       "      <td>2910</td>\n",
       "      <td>131</td>\n",
       "      <td>4.307793</td>\n",
       "      <td>7.478632</td>\n",
       "      <td>0</td>\n",
       "      <td>D = 0</td>\n",
       "    </tr>\n",
       "    <tr>\n",
       "      <th>1</th>\n",
       "      <td>13603</td>\n",
       "      <td>3722</td>\n",
       "      <td>9491</td>\n",
       "      <td>1566</td>\n",
       "      <td>14.162974</td>\n",
       "      <td>21.483405</td>\n",
       "      <td>1</td>\n",
       "      <td>0 &lt; D ≤ 30</td>\n",
       "    </tr>\n",
       "    <tr>\n",
       "      <th>2</th>\n",
       "      <td>5833</td>\n",
       "      <td>2885</td>\n",
       "      <td>3133</td>\n",
       "      <td>1292</td>\n",
       "      <td>29.197740</td>\n",
       "      <td>33.092452</td>\n",
       "      <td>2</td>\n",
       "      <td>30 &lt; D ≤ 60</td>\n",
       "    </tr>\n",
       "    <tr>\n",
       "      <th>3</th>\n",
       "      <td>4078</td>\n",
       "      <td>2090</td>\n",
       "      <td>2129</td>\n",
       "      <td>929</td>\n",
       "      <td>30.379333</td>\n",
       "      <td>33.884565</td>\n",
       "      <td>3</td>\n",
       "      <td>60 &lt; D ≤ 90</td>\n",
       "    </tr>\n",
       "    <tr>\n",
       "      <th>4</th>\n",
       "      <td>3032</td>\n",
       "      <td>1684</td>\n",
       "      <td>1594</td>\n",
       "      <td>798</td>\n",
       "      <td>33.361204</td>\n",
       "      <td>35.708227</td>\n",
       "      <td>4</td>\n",
       "      <td>90 &lt; D ≤ 120</td>\n",
       "    </tr>\n",
       "  </tbody>\n",
       "</table>\n",
       "</div>"
      ],
      "text/plain": [
       "   city_no  city_yes  resort_no  resort_yes  Resort Hotel  City Hotel  \\\n",
       "0     2598       210       2910         131      4.307793    7.478632   \n",
       "1    13603      3722       9491        1566     14.162974   21.483405   \n",
       "2     5833      2885       3133        1292     29.197740   33.092452   \n",
       "3     4078      2090       2129         929     30.379333   33.884565   \n",
       "4     3032      1684       1594         798     33.361204   35.708227   \n",
       "\n",
       "   lead_bin_cat      interval  \n",
       "0             0         D = 0  \n",
       "1             1    0 < D ≤ 30  \n",
       "2             2   30 < D ≤ 60  \n",
       "3             3   60 < D ≤ 90  \n",
       "4             4  90 < D ≤ 120  "
      ]
     },
     "execution_count": 48,
     "metadata": {},
     "output_type": "execute_result"
    }
   ],
   "source": [
    "df_pivot_lead.head()"
   ]
  },
  {
   "cell_type": "code",
   "execution_count": 49,
   "id": "OFnRURtBy4ky",
   "metadata": {
    "colab": {
     "base_uri": "https://localhost:8080/",
     "height": 206
    },
    "id": "OFnRURtBy4ky",
    "outputId": "3de67460-29c1-4a9f-e574-e2b5369cc12c"
   },
   "outputs": [
    {
     "data": {
      "text/html": [
       "<div>\n",
       "<style scoped>\n",
       "    .dataframe tbody tr th:only-of-type {\n",
       "        vertical-align: middle;\n",
       "    }\n",
       "\n",
       "    .dataframe tbody tr th {\n",
       "        vertical-align: top;\n",
       "    }\n",
       "\n",
       "    .dataframe thead th {\n",
       "        text-align: right;\n",
       "    }\n",
       "</style>\n",
       "<table border=\"1\" class=\"dataframe\">\n",
       "  <thead>\n",
       "    <tr style=\"text-align: right;\">\n",
       "      <th></th>\n",
       "      <th>interval</th>\n",
       "      <th>hotel</th>\n",
       "      <th>cancel rate</th>\n",
       "    </tr>\n",
       "  </thead>\n",
       "  <tbody>\n",
       "    <tr>\n",
       "      <th>0</th>\n",
       "      <td>D = 0</td>\n",
       "      <td>Resort Hotel</td>\n",
       "      <td>4.307793</td>\n",
       "    </tr>\n",
       "    <tr>\n",
       "      <th>1</th>\n",
       "      <td>0 &lt; D ≤ 30</td>\n",
       "      <td>Resort Hotel</td>\n",
       "      <td>14.162974</td>\n",
       "    </tr>\n",
       "    <tr>\n",
       "      <th>2</th>\n",
       "      <td>30 &lt; D ≤ 60</td>\n",
       "      <td>Resort Hotel</td>\n",
       "      <td>29.197740</td>\n",
       "    </tr>\n",
       "    <tr>\n",
       "      <th>3</th>\n",
       "      <td>60 &lt; D ≤ 90</td>\n",
       "      <td>Resort Hotel</td>\n",
       "      <td>30.379333</td>\n",
       "    </tr>\n",
       "    <tr>\n",
       "      <th>4</th>\n",
       "      <td>90 &lt; D ≤ 120</td>\n",
       "      <td>Resort Hotel</td>\n",
       "      <td>33.361204</td>\n",
       "    </tr>\n",
       "  </tbody>\n",
       "</table>\n",
       "</div>"
      ],
      "text/plain": [
       "       interval         hotel  cancel rate\n",
       "0         D = 0  Resort Hotel     4.307793\n",
       "1    0 < D ≤ 30  Resort Hotel    14.162974\n",
       "2   30 < D ≤ 60  Resort Hotel    29.197740\n",
       "3   60 < D ≤ 90  Resort Hotel    30.379333\n",
       "4  90 < D ≤ 120  Resort Hotel    33.361204"
      ]
     },
     "execution_count": 49,
     "metadata": {},
     "output_type": "execute_result"
    }
   ],
   "source": [
    "df_pivot_lead_new = df_pivot_lead[['interval','Resort Hotel','City Hotel']]\n",
    "df_pivot_lead_new = pd.melt(df_pivot_lead_new, id_vars=\"interval\", var_name=\"hotel\", value_name=\"cancel rate\")\n",
    "df_pivot_lead_new.head()"
   ]
  },
  {
   "cell_type": "code",
   "execution_count": 50,
   "id": "i-fKXtPszeXY",
   "metadata": {
    "colab": {
     "base_uri": "https://localhost:8080/",
     "height": 669
    },
    "id": "i-fKXtPszeXY",
    "outputId": "d45b6c0b-5371-4ac4-9cfd-af2b1a3216ea"
   },
   "outputs": [
    {
     "data": {
      "image/png": "[encoded data removed]",
      "text/plain": [
       "<Figure size 2160x720 with 1 Axes>"
      ]
     },
     "metadata": {},
     "output_type": "display_data"
    }
   ],
   "source": [
    "plt.rcParams['figure.figsize'] = (30,10)\n",
    "sns.set(font_scale=1.2)\n",
    "sns.barplot(x='interval', y='cancel rate', hue='hotel', data=df_pivot_lead_new)\n",
    "plt.axhline(y = df_pivot_lead_new[df_pivot_lead_new['hotel']=='City Hotel'].mean()[0], color =\"red\", linestyle =\"--\")\n",
    "plt.axhline(y = df_pivot_lead_new[df_pivot_lead_new['hotel']=='Resort Hotel'].mean()[0], color =\"green\", linestyle =\"--\")\n",
    "plt.text(x=-1,y=107,s=\"Impact Analysis of Lead Time on Hotel Bookings Cancellation Rate\",fontsize=25,weight='bold')\n",
    "plt.text(x=22,y=54,s='Average cancel of \\ntype City Hotel',fontsize=12)\n",
    "plt.text(x=22,y=26,s='Average cancel of \\ntype Resort Hotel',fontsize=12)\n",
    "plt.xlim(-1,26)\n",
    "plt.ylim(-1,105)\n",
    "plt.xticks(rotation = 70)\n",
    "plt.legend(title='Hotel Type')\n",
    "plt.xlabel('Interval of Lead Time in Days',fontsize = 20, weight='bold')\n",
    "plt.ylabel('Percentage Canceled in %',fontsize = 20, weight='bold')\n",
    "\n",
    "plt.show()"
   ]
  },
  {
   "cell_type": "markdown",
   "id": "CX-TWAdV1c-j",
   "metadata": {
    "id": "CX-TWAdV1c-j"
   },
   "source": [
    "- Berdasarkan grafik tersebut, dampak lead time terhadap tingkat pembatalan pemesanan hotel pada tipe City Hotel rata-rata persentase pembatalannya lebih tinggi dibandingkan dengan tipe Resort Hotel. Selain itu semakin lama durasi pada interval lead time, persentase pembatalannya cenderung semakin tinggi pada tipe City Hotel. Sedangkan pada tipe Resort Hotel, semakin lama durasi lead time kenaikan persentase pembatalan tidak terlalu signifikan\n",
    "- Terkait hal tersebut, hotel dapat membatasi lamanya waktu tunggu maksimal di 480 hari atau sekitar 16 bulan untuk tipe City Hotel yang dihitung dari waktu booking hingga waktu kedatangan tamu dengan tujuan meminimalisir pembatalan akibat lamanya waktu tunggu tersebut\n"
   ]
  },
  {
   "cell_type": "code",
   "execution_count": null,
   "id": "bkJPHEfBHVxf",
   "metadata": {
    "id": "bkJPHEfBHVxf"
   },
   "outputs": [],
   "source": []
  }
 ],
 "metadata": {
  "colab": {
   "provenance": []
  },
  "kernelspec": {
   "display_name": "Python 3 (ipykernel)",
   "language": "python",
   "name": "python3"
  },
  "language_info": {
   "codemirror_mode": {
    "name": "ipython",
    "version": 3
   },
   "file_extension": ".py",
   "mimetype": "text/x-python",
   "name": "python",
   "nbconvert_exporter": "python",
   "pygments_lexer": "ipython3",
   "version": "3.9.12"
  }
 },
 "nbformat": 4,
 "nbformat_minor": 5
}
